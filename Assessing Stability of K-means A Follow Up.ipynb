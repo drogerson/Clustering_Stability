{
 "cells": [
  {
   "cell_type": "markdown",
   "metadata": {},
   "source": [
    "# Assessing Stability of K-Means: A Follow Up\n",
    "\n",
    "Some years ago I posted an article on Assessing the Stability of K-means (http://activisiongamescience.github.io/2016/08/19/Assessing-Stability-of-K-Means-Clusterings/) and while my methods haven't changed too much since that time I have made enough incremental advancements that I felt it was worth sharing where I am now and how I've fully automated my process to deliver results in hours. First, I recommend you read the first article as this is more of a supplementary to that article rather than a standalone piece. Secondly, even though this article is titled 'K-means' I believe this stability methodology is generally extensible to any unsupervised methods that needs to fit stability criterion. Another area to research in the future.\n",
    "\n",
    "That said let's jump right into it. We're going to use the same dataset we used in the previous article, the 2013 American Community Survey (https://www.kaggle.com/census/2013-american-community-survey) and we'll be focusing on the wealth distribution of Americans. We'll be producing a segmentation based on variables like work house per week, income sources, age groups and levels of education. Instead of interpretability, this time we will focus on how to efficiently determine stability and explore some other tricks that I've learned in the intervening years to speed up the discovery process."
   ]
  },
  {
   "cell_type": "code",
   "execution_count": 104,
   "metadata": {},
   "outputs": [],
   "source": [
    "setwd(\"C:/Users/drogerson/Work_Directory\")\n",
    "\n",
    "\n",
    "#install.packages(\"flexclust\",repos=\"http://cran.stat.ucla.edu/\")\n",
    "\n",
    "#Turn Off Warnings\n",
    "options(warn=-1)\n",
    "\n",
    "# For Heatmaps.2\n",
    "library(gplots)\n",
    "# Plotting Library\n",
    "library(ggplot2)\n",
    "# Library to Color our Heatmaps\n",
    "library(RColorBrewer)\n",
    "#For scoring K-means on a new Dataset\n",
    "library(flexclust)\n",
    "#Packages to do parallel computing\n",
    "library(foreach)\n",
    "library(doParallel)\n",
    "\n",
    "#Turn On Warnings\n",
    "options(warn=0)\n",
    "\n",
    "# Creating a palette for Heatmaps\n",
    "mypalette <- brewer.pal(10,\"RdBu\")\n",
    "\n",
    "# Our Survey Data - Please read this file from the downloaded data from the American Community Survey\n",
    "datacs <- read.csv(\"./GAS Presentation/ss13pusa.csv\")"
   ]
  },
  {
   "cell_type": "markdown",
   "metadata": {},
   "source": [
    "After loading our data we'll again do some simple transforms, focusing on adults of at least 21 years of age and people who earned money."
   ]
  },
  {
   "cell_type": "code",
   "execution_count": 105,
   "metadata": {},
   "outputs": [
    {
     "name": "stdout",
     "output_type": "stream",
     "text": [
      "[1] \"Total Number of Rows in Our Dataset\"\n"
     ]
    },
    {
     "data": {
      "text/html": [
       "707659"
      ],
      "text/latex": [
       "707659"
      ],
      "text/markdown": [
       "707659"
      ],
      "text/plain": [
       "[1] 707659"
      ]
     },
     "metadata": {},
     "output_type": "display_data"
    },
    {
     "name": "stdout",
     "output_type": "stream",
     "text": [
      "[1] \"First 6 Rows in Our Dataset\"\n"
     ]
    },
    {
     "data": {
      "text/html": [
       "<table>\n",
       "<thead><tr><th></th><th scope=col>WAGP</th><th scope=col>WKHP</th><th scope=col>SCHL</th><th scope=col>OIP</th><th scope=col>INTP</th><th scope=col>AGEP</th><th scope=col>pwgtp1</th><th scope=col>pwgtp2</th></tr></thead>\n",
       "<tbody>\n",
       "\t<tr><th scope=row>2</th><td>52000</td><td>40   </td><td>20   </td><td>0    </td><td>0    </td><td>55   </td><td> 45  </td><td> 51  </td></tr>\n",
       "\t<tr><th scope=row>6</th><td>39000</td><td>40   </td><td>21   </td><td>0    </td><td>0    </td><td>63   </td><td>481  </td><td>575  </td></tr>\n",
       "\t<tr><th scope=row>12</th><td>90000</td><td>48   </td><td>16   </td><td>0    </td><td>0    </td><td>59   </td><td> 83  </td><td> 58  </td></tr>\n",
       "\t<tr><th scope=row>13</th><td>46000</td><td>40   </td><td>18   </td><td>0    </td><td>0    </td><td>56   </td><td> 69  </td><td> 49  </td></tr>\n",
       "\t<tr><th scope=row>17</th><td>20000</td><td>25   </td><td>21   </td><td>0    </td><td>0    </td><td>72   </td><td> 60  </td><td>163  </td></tr>\n",
       "\t<tr><th scope=row>18</th><td>28000</td><td>40   </td><td>19   </td><td>0    </td><td>0    </td><td>52   </td><td> 29  </td><td> 91  </td></tr>\n",
       "</tbody>\n",
       "</table>\n"
      ],
      "text/latex": [
       "\\begin{tabular}{r|llllllll}\n",
       "  & WAGP & WKHP & SCHL & OIP & INTP & AGEP & pwgtp1 & pwgtp2\\\\\n",
       "\\hline\n",
       "\t2 & 52000 & 40    & 20    & 0     & 0     & 55    &  45   &  51  \\\\\n",
       "\t6 & 39000 & 40    & 21    & 0     & 0     & 63    & 481   & 575  \\\\\n",
       "\t12 & 90000 & 48    & 16    & 0     & 0     & 59    &  83   &  58  \\\\\n",
       "\t13 & 46000 & 40    & 18    & 0     & 0     & 56    &  69   &  49  \\\\\n",
       "\t17 & 20000 & 25    & 21    & 0     & 0     & 72    &  60   & 163  \\\\\n",
       "\t18 & 28000 & 40    & 19    & 0     & 0     & 52    &  29   &  91  \\\\\n",
       "\\end{tabular}\n"
      ],
      "text/markdown": [
       "\n",
       "| <!--/--> | WAGP | WKHP | SCHL | OIP | INTP | AGEP | pwgtp1 | pwgtp2 | \n",
       "|---|---|---|---|---|---|\n",
       "| 2 | 52000 | 40    | 20    | 0     | 0     | 55    |  45   |  51   | \n",
       "| 6 | 39000 | 40    | 21    | 0     | 0     | 63    | 481   | 575   | \n",
       "| 12 | 90000 | 48    | 16    | 0     | 0     | 59    |  83   |  58   | \n",
       "| 13 | 46000 | 40    | 18    | 0     | 0     | 56    |  69   |  49   | \n",
       "| 17 | 20000 | 25    | 21    | 0     | 0     | 72    |  60   | 163   | \n",
       "| 18 | 28000 | 40    | 19    | 0     | 0     | 52    |  29   |  91   | \n",
       "\n",
       "\n"
      ],
      "text/plain": [
       "   WAGP  WKHP SCHL OIP INTP AGEP pwgtp1 pwgtp2\n",
       "2  52000 40   20   0   0    55    45     51   \n",
       "6  39000 40   21   0   0    63   481    575   \n",
       "12 90000 48   16   0   0    59    83     58   \n",
       "13 46000 40   18   0   0    56    69     49   \n",
       "17 20000 25   21   0   0    72    60    163   \n",
       "18 28000 40   19   0   0    52    29     91   "
      ]
     },
     "metadata": {},
     "output_type": "display_data"
    },
    {
     "name": "stdout",
     "output_type": "stream",
     "text": [
      "[1] \"Summary of Our Dataset\"\n"
     ]
    },
    {
     "data": {
      "text/plain": [
       "      WAGP             WKHP            SCHL           OIP         \n",
       " Min.   :     4   Min.   : 1.00   Min.   : 1.0   Min.   :    0.0  \n",
       " 1st Qu.: 16000   1st Qu.:36.00   1st Qu.:16.0   1st Qu.:    0.0  \n",
       " Median : 34000   Median :40.00   Median :19.0   Median :    0.0  \n",
       " Mean   : 47441   Mean   :39.03   Mean   :18.6   Mean   :  404.2  \n",
       " 3rd Qu.: 60000   3rd Qu.:43.00   3rd Qu.:21.0   3rd Qu.:    0.0  \n",
       " Max.   :660000   Max.   :99.00   Max.   :24.0   Max.   :83000.0  \n",
       "      INTP             AGEP           pwgtp1           pwgtp2      \n",
       " Min.   :     0   Min.   :21.00   Min.   : -28.0   Min.   :  -8.0  \n",
       " 1st Qu.:     0   1st Qu.:32.00   1st Qu.:  36.0   1st Qu.:  36.0  \n",
       " Median :     0   Median :44.00   Median :  75.0   Median :  75.0  \n",
       " Mean   :  1465   Mean   :44.22   Mean   : 103.3   Mean   : 103.4  \n",
       " 3rd Qu.:     0   3rd Qu.:55.00   3rd Qu.: 131.0   3rd Qu.: 131.0  \n",
       " Max.   :300000   Max.   :95.00   Max.   :2494.0   Max.   :2420.0  "
      ]
     },
     "metadata": {},
     "output_type": "display_data"
    }
   ],
   "source": [
    "set.seed(5) #Make sure to set a seed for reproducibility\n",
    "\n",
    "datprep1 <- datacs[datacs$AGEP>=21,c(\"WAGP\",\"WKHP\",\"SCHL\",\"OIP\",\"INTP\",\"AGEP\",\"pwgtp1\",\"pwgtp2\")]\n",
    "\n",
    "datprep1[is.na(datprep1)] <- 0\n",
    "\n",
    "# Only include people who made money from wages or interest/dividends\n",
    "datprep1a <- (datprep1[datprep1$WAGP > 0 & datprep1$INTP >= 0,])\n",
    "\n",
    "print(\"Total Number of Rows in Our Dataset\")\n",
    "nrow(datprep1a)\n",
    "print(\"First 6 Rows in Our Dataset\")\n",
    "head(datprep1a)\n",
    "print(\"Summary of Our Dataset\")\n",
    "summary(datprep1a)"
   ]
  },
  {
   "cell_type": "markdown",
   "metadata": {},
   "source": [
    "We'll also scale our variables and run them through PCA removing the final component as it contributes less than 7% to the total variance in our data."
   ]
  },
  {
   "cell_type": "code",
   "execution_count": 106,
   "metadata": {},
   "outputs": [
    {
     "name": "stdout",
     "output_type": "stream",
     "text": [
      "[1] \"Summary of the PCA Components of Our Dataset\"\n"
     ]
    },
    {
     "data": {
      "text/plain": [
       "Importance of components:\n",
       "                          PC1    PC2    PC3    PC4    PC5     PC6\n",
       "Standard deviation     1.3162 1.0554 0.9965 0.9682 0.8981 0.64545\n",
       "Proportion of Variance 0.2887 0.1856 0.1655 0.1562 0.1344 0.06943\n",
       "Cumulative Proportion  0.2887 0.4744 0.6399 0.7961 0.9306 1.00000"
      ]
     },
     "metadata": {},
     "output_type": "display_data"
    }
   ],
   "source": [
    "#Prep the Full Dataset\n",
    "\n",
    "datprep2<-datprep1a[,1:6]\n",
    "datprep4 <- apply(datprep2,2,scale)\n",
    "\n",
    "#Curb Outliers\n",
    "datprep4[datprep4>2]<-2\n",
    "datprep4[datprep4<(-2)]<-(-2)\n",
    "\n",
    "#Perform PCA\n",
    "\n",
    "pcadat<-prcomp(datprep4,\n",
    "               center = TRUE,\n",
    "               scale. = TRUE)\n",
    "\n",
    "print(\"Summary of the PCA Components of Our Dataset\")\n",
    "summary(pcadat)\n",
    "\n",
    "#Cut off the last loading\n",
    "datprep5<-pcadat$x\n",
    "datprep6<-datprep5[,1:(ncol(datprep5)-1)]\n",
    "\n",
    "randomSample<-runif(nrow(datprep1a))\n",
    "\n",
    "holdout<-datprep6[randomSample>=0.9,] #Holdout for Cluster Label Comparision (Rand Index)\n",
    "train<-datprep6[randomSample<0.9,] #Data to Train the Clustering Models on\n",
    "\n",
    "trainRaw<-datprep2[randomSample<0.9,]"
   ]
  },
  {
   "cell_type": "code",
   "execution_count": 107,
   "metadata": {},
   "outputs": [
    {
     "data": {
      "text/plain": [
       "      PC1                 PC2                 PC3           \n",
       " Min.   :-6.563249   Min.   :-8.036859   Min.   :-6.020021  \n",
       " 1st Qu.:-0.738451   1st Qu.:-0.481260   1st Qu.:-0.021839  \n",
       " Median : 0.130120   Median : 0.152146   Median : 0.159744  \n",
       " Mean   : 0.000387   Mean   : 0.000192   Mean   :-0.000026  \n",
       " 3rd Qu.: 0.910712   3rd Qu.: 0.721434   3rd Qu.: 0.354579  \n",
       " Max.   : 3.579223   Max.   : 2.382108   Max.   : 2.057768  \n",
       "      PC4                 PC5           \n",
       " Min.   :-4.277149   Min.   :-7.560387  \n",
       " 1st Qu.:-0.650655   1st Qu.:-0.430831  \n",
       " Median : 0.000658   Median : 0.054758  \n",
       " Mean   : 0.000945   Mean   :-0.000403  \n",
       " 3rd Qu.: 0.651324   3rd Qu.: 0.542359  \n",
       " Max.   : 5.269863   Max.   : 2.833168  "
      ]
     },
     "metadata": {},
     "output_type": "display_data"
    }
   ],
   "source": [
    "summary(train)"
   ]
  },
  {
   "cell_type": "markdown",
   "metadata": {},
   "source": [
    "### The Segmentation Loop\n",
    "\n",
    "Now that we have a fully prepped dataset we can move on to the major focus for this article: The SegmentationLoop. From our previous articles it's clear that K-means segmentation does not always converge to a global minimum. As such, we expect to repeat a segmentation several times in order to find out what's stable. Our goal is to run the loop below hundreds of times in parallel and store the results for analysis later.\n",
    "\n",
    "A quick summary of the loop below:\n",
    "\n",
    "1) Work off an initial dataset which is a subsample of the total dataset (by default 100k observations)\n",
    "\n",
    "2) Use a cluster initialization as described in Dasgupta and Schulman (2007)\n",
    "\n",
    "3) If that produces a number of initial centers < k (rare but can happen) then simply initialize from the first few unique rows in the training data\n",
    "\n",
    "4) Perform a Kmeans segmentation saving the centers (both in PCA and 'real' space for interpretability)\n",
    "\n",
    "5) Record the centers (both for train and raw data), the run and the model.\n",
    "\n",
    "6) Finally we score the first 1000 rows of the holdout dataset. This will allow us compare clusters with a similarity score."
   ]
  },
  {
   "cell_type": "code",
   "execution_count": 108,
   "metadata": {},
   "outputs": [],
   "source": [
    "SegmentationLoop <- function(ksize, train, trainRaw, holdout, sampsize = 100000, run = 1) {\n",
    "  \n",
    "  #iclustering <- 2\n",
    "  #Last updated 3-12-19\n",
    "  \n",
    "  #1) Work off of an initial dataset which is a subsample of the total dataset (by default 100k observations)  \n",
    "    \n",
    "  samplingIntegers<-sample(1:nrow(train),sampsize)\n",
    "  datprepOriginal<-train[samplingIntegers,]\n",
    "  datprepRaw<-trainRaw[samplingIntegers,]\n",
    "  \n",
    "  #2) Initialization Method For Kmeans Described in Dasgupta and Schulman (2007)\n",
    "  \n",
    "  initialKmeans <- kmeans(datprepOriginal, ceiling(ksize*log(ksize)),iter.max = 1)\n",
    "  validCenters <- initialKmeans$size/nrow(datprepOriginal)*ceiling(ksize*log(ksize)) > 1/2\n",
    "  centersNoOutliers <- initialKmeans$centers[validCenters,]\n",
    "  \n",
    "  \n",
    "  if (sum(validCenters) > ksize) {\n",
    "    \n",
    "    nextCenter <- centersNoOutliers[1,] #Start with a Random Center\n",
    "    initialCenters <- data.frame(t(nextCenter))\n",
    "    centersConsidered <- 2:nrow(centersNoOutliers) #Keep track of the centers that can still be added\n",
    "    \n",
    "    for(i in 1:(ksize-1)){\n",
    "      \n",
    "      k2 <- matrix(,ncol = nrow(centersNoOutliers),nrow = i)\n",
    "      \n",
    "      for(k in 1:i) {\n",
    "        \n",
    "        for( j in 1:nrow(centersNoOutliers)) {\n",
    "          k2[k,j] <- sum((centersNoOutliers[j,]-initialCenters[k,])^2)\n",
    "        }\n",
    "      } #Create a Distance Matrix between the centers currently selected and all centers\n",
    "      \n",
    "      if(i == 1){\n",
    "        k3 <- k2}else{\n",
    "          clusterWithMaxMinDistance <- which.max(apply(k2[,centersConsidered],1,FUN=min))\n",
    "          k3 <- k2[clusterWithMaxMinDistance,]\n",
    "        } #Calculating relevant distances to find the cluster that maximizes the minimum distance to the centers already selected.\n",
    "      \n",
    "      nextCenter <- centersNoOutliers[centersConsidered[which.max( k3[centersConsidered])],] \n",
    "      #Select the center which maximizes the minimum distance to one of the centers already selected\n",
    "      centersConsidered <- centersConsidered[-which.max( k3[centersConsidered])]\n",
    "      #One selected we have to remove it from the centers that are still up for selection\n",
    "      initialCenters <- rbind(initialCenters,nextCenter)\n",
    "      #And finally add the new center to the list of initialization centers for K-means.\n",
    "      \n",
    "    }\n",
    "    \n",
    "  } else if ( sum(validCenters) == ksize) {initialCenters <- centersNoOutliers #3) If Exactly Equal\n",
    "  } else { initialCenters <- unique(head(datprepOriginal,100))[1:ksize,] } #3) If all else fails use unique random points from the first 1000 rows\n",
    "  \n",
    "  \n",
    "  \n",
    "  #4) Perform a Kmeans segmentation saving the centers (both in PCA and 'real' space for interpretability)\n",
    "  \n",
    "    PCAKmeans <- kcca(datprepOriginal, k = as.matrix(initialCenters), kccaFamily(\"kmeans\"),simple=TRUE)\n",
    "  \n",
    "    clustersize <- PCAKmeans@clusinfo$size/sum(PCAKmeans@clusinfo$size)\n",
    "    testcluster <- aggregate(datprepOriginal,by=list(PCAKmeans@cluster),FUN = mean)\n",
    "    testcluster <- testcluster[,2:ncol(testcluster)]\n",
    "    testClusterRealValues <- aggregate(datprepRaw,by=list(PCAKmeans@cluster),FUN = mean)\n",
    "  \n",
    "  #5) Finally we record the centers (both for train and raw data) and the run.\n",
    "    new <- testcluster\n",
    "    new$segment <- 1:ksize\n",
    "    new$run <- run\n",
    "    \n",
    "    rawCenters <- testClusterRealValues\n",
    "    rawCenters$segment <- 1:ksize\n",
    "    rawCenters$run <- run\n",
    "    rawCenters$size <- clustersize\n",
    "    \n",
    "   #6) Labeling the holdout dataset with the model and using it to calculate the Rand Index  \n",
    "    labelsTest <- predict(PCAKmeans,holdout)\n",
    "    \n",
    "    list(new,rawCenters[,2:ncol(rawCenters)],labelsTest,PCAKmeans)\n",
    "    \n",
    "  \n",
    "}"
   ]
  },
  {
   "cell_type": "code",
   "execution_count": 109,
   "metadata": {
    "scrolled": false
   },
   "outputs": [
    {
     "name": "stderr",
     "output_type": "stream",
     "text": [
      "Warning message:\n",
      "\"did not converge in 1 iteration\""
     ]
    }
   ],
   "source": [
    "loopOutput <- SegmentationLoop( 4, train, trainRaw, holdout[1:1000,])"
   ]
  },
  {
   "cell_type": "markdown",
   "metadata": {},
   "source": [
    "So here we see the output of one iteration of the loop:\n",
    "\n",
    "1) The centers of the train data (the model in PCA space)\n",
    "\n",
    "2) The centers of the trainRaw data (the model in real space)\n",
    "\n",
    "3) The model scores on the holdout set, used for comparison between segmentations\n",
    "\n",
    "4) The model that was created"
   ]
  },
  {
   "cell_type": "code",
   "execution_count": 110,
   "metadata": {},
   "outputs": [
    {
     "data": {
      "text/plain": [
       "[[1]]\n",
       "         PC1         PC2         PC3         PC4        PC5 segment run\n",
       "1 -1.6063387  0.05776251  0.06171961  0.04146547  0.1293728       1   1\n",
       "2  0.6489389 -1.19752651 -4.68717291 -0.36475919 -0.2269234       2   1\n",
       "3  0.5742457 -0.64159426  0.41541132 -0.62024649  0.2460607       3   1\n",
       "4  0.6831777  0.67402278  0.06115262  0.59693629 -0.2965463       4   1\n",
       "\n",
       "[[2]]\n",
       "       WAGP     WKHP     SCHL         OIP       INTP     AGEP segment run\n",
       "1 100126.20 47.15874 20.86487    16.23868 4194.83754 48.58626       1   1\n",
       "2  31785.64 37.72306 18.59136 10377.51171 1084.53071 45.43207       2   1\n",
       "3  27409.89 35.02910 16.60232    30.00611  557.15925 55.13186       3   1\n",
       "4  25505.81 36.22193 18.68907    31.46286   57.69947 30.44354       4   1\n",
       "     size\n",
       "1 0.28247\n",
       "2 0.03842\n",
       "3 0.32710\n",
       "4 0.35201\n",
       "\n",
       "[[3]]\n",
       "   [1] 1 3 4 3 4 4 1 1 3 3 3 3 1 3 3 1 3 4 3 3 1 4 3 4 3 3 4 3 1 4 3 4 4 3 4 4 4\n",
       "  [38] 3 4 4 3 3 3 3 2 1 4 4 4 4 3 4 4 1 4 4 3 1 4 3 1 1 4 2 1 3 3 4 4 1 2 4 3 1\n",
       "  [75] 3 1 4 3 1 4 4 3 1 4 1 4 4 3 4 3 1 1 4 1 4 3 1 4 4 3 3 4 2 1 3 1 4 4 4 1 3\n",
       " [112] 4 4 1 2 3 3 3 2 4 1 2 2 1 3 4 2 4 1 1 1 1 1 2 4 3 3 3 1 1 3 4 3 4 3 4 3 4\n",
       " [149] 4 1 4 1 4 3 4 4 4 4 4 3 1 1 4 3 1 3 4 3 3 1 4 4 1 4 3 4 4 4 3 4 3 1 4 4 3\n",
       " [186] 4 2 1 3 1 3 3 4 3 3 4 1 4 1 4 3 3 1 4 4 3 3 4 1 4 3 4 3 3 1 1 3 3 3 4 3 1\n",
       " [223] 3 3 1 3 3 4 4 3 1 4 3 4 4 2 1 4 1 3 4 4 1 1 3 4 3 4 4 4 4 3 3 3 3 3 4 4 1\n",
       " [260] 4 1 3 4 1 1 4 1 2 1 3 4 3 1 4 4 4 3 3 4 1 4 1 1 4 1 3 1 3 1 3 3 3 3 3 4 3\n",
       " [297] 3 1 3 4 3 1 4 2 1 1 4 1 4 3 3 4 3 3 1 3 1 4 4 4 4 4 3 3 3 3 3 3 3 3 3 4 3\n",
       " [334] 4 3 4 4 4 1 3 1 4 4 4 1 3 4 1 3 4 3 3 1 4 1 3 3 3 3 3 1 3 1 3 3 4 1 3 4 4\n",
       " [371] 4 4 4 1 4 3 3 2 4 3 3 1 1 4 1 4 1 1 2 3 4 3 4 3 4 4 1 4 3 4 4 4 3 4 4 3 3\n",
       " [408] 4 3 4 1 1 4 1 3 3 3 3 1 1 2 3 1 1 1 1 4 4 1 4 4 2 4 4 4 1 4 4 3 4 4 2 4 4\n",
       " [445] 3 1 3 4 3 4 1 4 2 3 3 3 1 2 1 4 3 3 3 3 4 4 3 4 4 1 4 1 3 3 1 4 3 4 3 4 3\n",
       " [482] 3 2 1 1 1 1 1 1 1 1 4 4 4 1 3 3 3 3 3 1 3 4 4 4 3 3 4 4 3 3 4 3 3 3 4 4 3\n",
       " [519] 1 4 4 1 1 4 1 2 4 4 3 4 1 3 3 3 1 1 1 1 3 3 3 3 4 4 1 3 1 4 3 3 3 1 1 3 1\n",
       " [556] 3 3 2 1 1 3 1 3 4 4 1 4 4 3 3 4 3 4 3 3 4 4 4 3 4 4 1 1 3 4 4 4 3 1 4 1 1\n",
       " [593] 1 2 4 3 1 3 3 1 4 3 4 3 3 3 4 4 3 3 3 3 1 1 3 4 3 4 2 3 1 3 1 1 4 4 3 4 1\n",
       " [630] 4 4 3 4 4 4 4 4 1 1 1 3 1 1 4 4 4 4 3 4 1 4 1 4 3 3 1 3 4 4 3 1 3 3 1 3 3\n",
       " [667] 1 4 4 3 4 1 4 3 3 4 4 1 1 1 4 1 3 1 3 3 3 1 4 3 1 3 4 4 1 4 1 3 4 4 1 3 4\n",
       " [704] 1 1 3 1 4 3 3 4 4 3 1 3 4 3 3 4 4 3 4 3 4 4 3 3 4 2 1 1 3 4 1 4 3 3 4 3 4\n",
       " [741] 4 3 1 3 4 3 3 4 1 4 4 4 3 4 3 3 1 4 1 1 4 4 3 4 1 1 3 3 4 4 3 1 3 3 3 3 4\n",
       " [778] 3 3 1 4 4 3 1 3 3 1 3 1 4 4 3 3 1 3 3 1 3 4 3 2 1 3 3 4 4 1 4 4 4 4 1 3 4\n",
       " [815] 4 4 4 1 3 4 3 1 4 3 1 2 4 3 4 2 4 1 4 4 3 4 3 1 1 1 4 4 1 4 4 3 4 3 4 1 1\n",
       " [852] 3 4 3 4 1 4 1 1 3 4 4 3 4 2 3 3 1 4 2 3 1 4 3 1 1 4 3 4 3 1 2 4 3 1 4 3 4\n",
       " [889] 4 4 2 4 3 4 1 4 4 1 3 4 4 3 4 4 1 1 3 1 1 4 1 3 4 4 1 3 3 3 3 3 4 3 3 3 3\n",
       " [926] 3 3 3 1 1 1 3 1 3 1 1 4 1 4 2 1 3 4 3 4 3 3 3 4 1 1 3 3 3 4 1 3 1 2 4 1 4\n",
       " [963] 3 3 3 4 4 4 1 3 4 1 4 3 4 1 4 4 1 2 3 1 1 4 4 4 3 1 4 3 1 3 4 4 3 4 1 4 4\n",
       "[1000] 4\n",
       "\n",
       "[[4]]\n",
       "kccasimple object of family 'kmeans' \n",
       "\n",
       "call:\n",
       "kcca(x = datprepOriginal, k = as.matrix(initialCenters), family = kccaFamily(\"kmeans\"), \n",
       "    simple = TRUE)\n",
       "\n",
       "cluster sizes:\n",
       "\n",
       "    1     2     3     4 \n",
       "28247  3842 32710 35201 \n",
       "\n"
      ]
     },
     "metadata": {},
     "output_type": "display_data"
    }
   ],
   "source": [
    "loopOutput"
   ]
  },
  {
   "cell_type": "code",
   "execution_count": 111,
   "metadata": {},
   "outputs": [
    {
     "data": {
      "image/png": "[encoded data removed]",
      "text/plain": [
       "Plot with title \"Color Key\""
      ]
     },
     "metadata": {},
     "output_type": "display_data"
    },
    {
     "data": {
      "image/png": "[encoded data removed]",
      "text/plain": [
       "Plot with title \"Color Key\""
      ]
     },
     "metadata": {},
     "output_type": "display_data"
    }
   ],
   "source": [
    "firstPlot <- as.matrix(as.data.frame(loopOutput[[1]])[1:5])\n",
    "secondPlot <- as.matrix(as.data.frame(loopOutput[[2]])[1:6])\n",
    "\n",
    "heatmap.2(firstPlot,scale = \"column\",notecol = \"black\",Rowv = \"False\",Colv = \"False\"\n",
    "                 ,main = \"Initial Segmentation (PC Space)\",col = mypalette,key.xlab = \"Low (Red) to High (Blue)\", trace = \"none\",density.info = \"none\")\n",
    "\n",
    "heatmap.2(secondPlot,scale = \"column\",notecol = \"black\",Rowv = \"False\",Colv = \"False\"\n",
    "                 ,main = \"Initial Segmentation (Real Space)\",col = mypalette,key.xlab = \"Low (Red) to High (Blue)\", trace = \"none\",density.info = \"none\")\n"
   ]
  },
  {
   "cell_type": "markdown",
   "metadata": {},
   "source": [
    "### Running 100 Segmentations and Comparing Them\n",
    "\n",
    "So now let's record 100 runs and compare our clusters. The loop is written to be entirely parallelizable. Each of the output types above will be stored in separate tables."
   ]
  },
  {
   "cell_type": "code",
   "execution_count": 112,
   "metadata": {},
   "outputs": [
    {
     "name": "stdout",
     "output_type": "stream",
     "text": [
      "[1] \"Clustering Complete:  61  seconds\"\n"
     ]
    }
   ],
   "source": [
    "bootstraps <- 100 #Run 100 times\n",
    "\n",
    "ptm <- proc.time() \n",
    "\n",
    "cl <- makeCluster(6) #Use 6 cores\n",
    "registerDoParallel(cl) # Start Parallel\n",
    "\n",
    "finalOutput <- foreach( iclustering = 1:bootstraps, .combine = c, .export = c('kcca','kccaFamily','predict') ) %dopar%\n",
    "  SegmentationLoop( 4, train, trainRaw, holdout[1:1000,], run = iclustering)\n",
    "\n",
    "stopCluster(cl)\n",
    "\n",
    "print(paste(\"Clustering Complete: \",round(proc.time() - ptm )[3],\" seconds\"))\n"
   ]
  },
  {
   "cell_type": "markdown",
   "metadata": {},
   "source": [
    "Now finalOutput contains a list of 100 outputs of the SegmentationLoop. So let's stich these together into the data we're interested in:\n",
    "\n",
    "output) The centers of the train data (the model in PCA space)\n",
    "\n",
    "outputRaw) The centers of the trainRaw data (the model in real space)\n",
    "\n",
    "labelResults) The model scores on the holdout set, used for comparison between segmentations\n",
    "\n",
    "modelResults) The model that was created"
   ]
  },
  {
   "cell_type": "code",
   "execution_count": 113,
   "metadata": {},
   "outputs": [],
   "source": [
    "output <- do.call('rbind',(finalOutput[(1:bootstraps*4 - 3)]))\n",
    "outputRaw <- do.call('rbind',(finalOutput[(1:bootstraps*4 - 2)]))\n",
    "labelResults <- do.call('rbind',(finalOutput[(1:bootstraps*4 - 1)]))\n",
    "modelResults <- finalOutput[(1:bootstraps*4)]"
   ]
  },
  {
   "cell_type": "markdown",
   "metadata": {},
   "source": [
    "Now comes the interesting part. Let's create a distance matrix between each segmentation we've produced. Our 'distance' metric will be randIndex (Adjusted Rand Index), as referenced in the previous article (also here https://en.wikipedia.org/wiki/Rand_index). Once interesting tidbit I missed during my earlier work is that randIndex (from the flexclust package) already permutes through labels to find the best rand index removing the need to reorder the segment labels! While this may seem minor, this actually means that we don't have to worry about an initial segmentation and we know longer have to worry about biasing our results but what segmentation we randomly started with."
   ]
  },
  {
   "cell_type": "code",
   "execution_count": 114,
   "metadata": {},
   "outputs": [
    {
     "data": {
      "text/html": [
       "<strong>ARI:</strong> 1"
      ],
      "text/latex": [
       "\\textbf{ARI:} 1"
      ],
      "text/markdown": [
       "**ARI:** 1"
      ],
      "text/plain": [
       "ARI \n",
       "  1 "
      ]
     },
     "metadata": {},
     "output_type": "display_data"
    }
   ],
   "source": [
    "randIndex(c(1,1,2,2,3,4,3,4,5),c(2,2,1,1,4,3,4,3,5))"
   ]
  },
  {
   "cell_type": "markdown",
   "metadata": {},
   "source": [
    "Computing this distance matrix can also be computationally intense and scales as number of segmentations squared. For this reason I've decided to parallelize this code as well."
   ]
  },
  {
   "cell_type": "code",
   "execution_count": 115,
   "metadata": {},
   "outputs": [
    {
     "name": "stdout",
     "output_type": "stream",
     "text": [
      "[1] \"Rand Indexing Complete:  8.4399999999996  seconds\"\n"
     ]
    }
   ],
   "source": [
    "ptm <- proc.time() \n",
    "\n",
    "cl <- makeCluster(6) #Use 6 cores\n",
    "registerDoParallel(cl) # Start Parallel\n",
    "\n",
    "gridDef <- expand.grid(1:bootstraps,1:bootstraps)\n",
    "\n",
    "randMatOutput <- foreach( irand = 1:(bootstraps^2), .combine = c, .export = c('randIndex') ) %dopar%\n",
    "  {randIndex(labelResults[gridDef$Var1[irand],],labelResults[gridDef$Var2[irand],])}\n",
    "\n",
    "stopCluster(cl)\n",
    "\n",
    "print(paste(\"Rand Indexing Complete: \",(proc.time() - ptm )[3],\" seconds\"))\n",
    "\n",
    "randMat <- matrix(randMatOutput, nrow = bootstraps)"
   ]
  },
  {
   "cell_type": "markdown",
   "metadata": {},
   "source": [
    "Below you'll see our distance matrix and of course all of our diagonal elements are 1 and it's reflected about the diagonal since \n",
    "\n",
    "\\begin{align}\n",
    " rand(x,y) & = rand(y,x) \\\\\n",
    " rand(x,x) & = 1 \\\\\n",
    "\\end{align}"
   ]
  },
  {
   "cell_type": "code",
   "execution_count": 116,
   "metadata": {},
   "outputs": [
    {
     "data": {
      "text/html": [
       "<table>\n",
       "<tbody>\n",
       "\t<tr><td>1.0000000</td><td>0.9938893</td><td>0.5619612</td><td>0.5477811</td><td>0.9906758</td><td>0.9939470</td><td>0.9911267</td><td>0.9938893</td><td>0.9906170</td><td>0.9906170</td><td>...      </td><td>0.9971711</td><td>0.9911899</td><td>0.9906758</td><td>0.9939449</td><td>0.9906170</td><td>0.9818296</td><td>0.9967142</td><td>0.9911145</td><td>0.9883695</td><td>0.9906727</td></tr>\n",
       "\t<tr><td>0.9938893</td><td>1.0000000</td><td>0.5624438</td><td>0.5482895</td><td>0.9911179</td><td>0.9943989</td><td>0.9906722</td><td>1.0000000</td><td>0.9967177</td><td>0.9967177</td><td>...      </td><td>0.9967176</td><td>0.9850893</td><td>0.9911179</td><td>0.9943970</td><td>0.9967177</td><td>0.9879214</td><td>0.9971666</td><td>0.9972257</td><td>0.9888295</td><td>0.9911149</td></tr>\n",
       "\t<tr><td>0.5619612</td><td>0.5624438</td><td>1.0000000</td><td>0.9821637</td><td>0.5642514</td><td>0.5665446</td><td>0.5615879</td><td>0.5624438</td><td>0.5601592</td><td>0.5601592</td><td>...      </td><td>0.5598284</td><td>0.5656863</td><td>0.5663279</td><td>0.5669086</td><td>0.5622271</td><td>0.5694900</td><td>0.5645816</td><td>0.5647670</td><td>0.5706569</td><td>0.5695369</td></tr>\n",
       "\t<tr><td>0.5477811</td><td>0.5482895</td><td>0.9821637</td><td>1.0000000</td><td>0.5500738</td><td>0.5523368</td><td>0.5474654</td><td>0.5482895</td><td>0.5460351</td><td>0.5460351</td><td>...      </td><td>0.5457037</td><td>0.5515104</td><td>0.5521206</td><td>0.5526663</td><td>0.5480733</td><td>0.5552418</td><td>0.5503720</td><td>0.5505801</td><td>0.5563957</td><td>0.5552651</td></tr>\n",
       "\t<tr><td>0.9906758</td><td>0.9911179</td><td>0.5642514</td><td>0.5500738</td><td>1.0000000</td><td>0.9967108</td><td>0.9873397</td><td>0.9911179</td><td>0.9943991</td><td>0.9943991</td><td>...      </td><td>0.9878457</td><td>0.9873951</td><td>0.9934310</td><td>0.9912013</td><td>0.9878463</td><td>0.9790970</td><td>0.9939518</td><td>0.9883617</td><td>0.9911242</td><td>0.9879298</td></tr>\n",
       "\t<tr><td>0.9939470</td><td>0.9943989</td><td>0.5665446</td><td>0.5523368</td><td>0.9967108</td><td>1.0000000</td><td>0.9906108</td><td>0.9943989</td><td>0.9911179</td><td>0.9911179</td><td>...      </td><td>0.9911175</td><td>0.9906650</td><td>0.9967108</td><td>0.9944729</td><td>0.9911179</td><td>0.9823416</td><td>0.9972323</td><td>0.9916339</td><td>0.9944121</td><td>0.9911920</td></tr>\n",
       "</tbody>\n",
       "</table>\n"
      ],
      "text/latex": [
       "\\begin{tabular}{llllllllllllllllllllllllllllllllllllllllllllllllllllllllllllllllllllllllllllllllllllllllllllllllllll}\n",
       "\t 1.0000000 & 0.9938893 & 0.5619612 & 0.5477811 & 0.9906758 & 0.9939470 & 0.9911267 & 0.9938893 & 0.9906170 & 0.9906170 & ...       & 0.9971711 & 0.9911899 & 0.9906758 & 0.9939449 & 0.9906170 & 0.9818296 & 0.9967142 & 0.9911145 & 0.9883695 & 0.9906727\\\\\n",
       "\t 0.9938893 & 1.0000000 & 0.5624438 & 0.5482895 & 0.9911179 & 0.9943989 & 0.9906722 & 1.0000000 & 0.9967177 & 0.9967177 & ...       & 0.9967176 & 0.9850893 & 0.9911179 & 0.9943970 & 0.9967177 & 0.9879214 & 0.9971666 & 0.9972257 & 0.9888295 & 0.9911149\\\\\n",
       "\t 0.5619612 & 0.5624438 & 1.0000000 & 0.9821637 & 0.5642514 & 0.5665446 & 0.5615879 & 0.5624438 & 0.5601592 & 0.5601592 & ...       & 0.5598284 & 0.5656863 & 0.5663279 & 0.5669086 & 0.5622271 & 0.5694900 & 0.5645816 & 0.5647670 & 0.5706569 & 0.5695369\\\\\n",
       "\t 0.5477811 & 0.5482895 & 0.9821637 & 1.0000000 & 0.5500738 & 0.5523368 & 0.5474654 & 0.5482895 & 0.5460351 & 0.5460351 & ...       & 0.5457037 & 0.5515104 & 0.5521206 & 0.5526663 & 0.5480733 & 0.5552418 & 0.5503720 & 0.5505801 & 0.5563957 & 0.5552651\\\\\n",
       "\t 0.9906758 & 0.9911179 & 0.5642514 & 0.5500738 & 1.0000000 & 0.9967108 & 0.9873397 & 0.9911179 & 0.9943991 & 0.9943991 & ...       & 0.9878457 & 0.9873951 & 0.9934310 & 0.9912013 & 0.9878463 & 0.9790970 & 0.9939518 & 0.9883617 & 0.9911242 & 0.9879298\\\\\n",
       "\t 0.9939470 & 0.9943989 & 0.5665446 & 0.5523368 & 0.9967108 & 1.0000000 & 0.9906108 & 0.9943989 & 0.9911179 & 0.9911179 & ...       & 0.9911175 & 0.9906650 & 0.9967108 & 0.9944729 & 0.9911179 & 0.9823416 & 0.9972323 & 0.9916339 & 0.9944121 & 0.9911920\\\\\n",
       "\\end{tabular}\n"
      ],
      "text/markdown": [
       "\n",
       "| 1.0000000 | 0.9938893 | 0.5619612 | 0.5477811 | 0.9906758 | 0.9939470 | 0.9911267 | 0.9938893 | 0.9906170 | 0.9906170 | ...       | 0.9971711 | 0.9911899 | 0.9906758 | 0.9939449 | 0.9906170 | 0.9818296 | 0.9967142 | 0.9911145 | 0.9883695 | 0.9906727 | \n",
       "| 0.9938893 | 1.0000000 | 0.5624438 | 0.5482895 | 0.9911179 | 0.9943989 | 0.9906722 | 1.0000000 | 0.9967177 | 0.9967177 | ...       | 0.9967176 | 0.9850893 | 0.9911179 | 0.9943970 | 0.9967177 | 0.9879214 | 0.9971666 | 0.9972257 | 0.9888295 | 0.9911149 | \n",
       "| 0.5619612 | 0.5624438 | 1.0000000 | 0.9821637 | 0.5642514 | 0.5665446 | 0.5615879 | 0.5624438 | 0.5601592 | 0.5601592 | ...       | 0.5598284 | 0.5656863 | 0.5663279 | 0.5669086 | 0.5622271 | 0.5694900 | 0.5645816 | 0.5647670 | 0.5706569 | 0.5695369 | \n",
       "| 0.5477811 | 0.5482895 | 0.9821637 | 1.0000000 | 0.5500738 | 0.5523368 | 0.5474654 | 0.5482895 | 0.5460351 | 0.5460351 | ...       | 0.5457037 | 0.5515104 | 0.5521206 | 0.5526663 | 0.5480733 | 0.5552418 | 0.5503720 | 0.5505801 | 0.5563957 | 0.5552651 | \n",
       "| 0.9906758 | 0.9911179 | 0.5642514 | 0.5500738 | 1.0000000 | 0.9967108 | 0.9873397 | 0.9911179 | 0.9943991 | 0.9943991 | ...       | 0.9878457 | 0.9873951 | 0.9934310 | 0.9912013 | 0.9878463 | 0.9790970 | 0.9939518 | 0.9883617 | 0.9911242 | 0.9879298 | \n",
       "| 0.9939470 | 0.9943989 | 0.5665446 | 0.5523368 | 0.9967108 | 1.0000000 | 0.9906108 | 0.9943989 | 0.9911179 | 0.9911179 | ...       | 0.9911175 | 0.9906650 | 0.9967108 | 0.9944729 | 0.9911179 | 0.9823416 | 0.9972323 | 0.9916339 | 0.9944121 | 0.9911920 | \n",
       "\n",
       "\n"
      ],
      "text/plain": [
       "     [,1]      [,2]      [,3]      [,4]      [,5]      [,6]      [,7]     \n",
       "[1,] 1.0000000 0.9938893 0.5619612 0.5477811 0.9906758 0.9939470 0.9911267\n",
       "[2,] 0.9938893 1.0000000 0.5624438 0.5482895 0.9911179 0.9943989 0.9906722\n",
       "[3,] 0.5619612 0.5624438 1.0000000 0.9821637 0.5642514 0.5665446 0.5615879\n",
       "[4,] 0.5477811 0.5482895 0.9821637 1.0000000 0.5500738 0.5523368 0.5474654\n",
       "[5,] 0.9906758 0.9911179 0.5642514 0.5500738 1.0000000 0.9967108 0.9873397\n",
       "[6,] 0.9939470 0.9943989 0.5665446 0.5523368 0.9967108 1.0000000 0.9906108\n",
       "     [,8]      [,9]      [,10]     [,11] [,12]     [,13]     [,14]    \n",
       "[1,] 0.9938893 0.9906170 0.9906170 ...   0.9971711 0.9911899 0.9906758\n",
       "[2,] 1.0000000 0.9967177 0.9967177 ...   0.9967176 0.9850893 0.9911179\n",
       "[3,] 0.5624438 0.5601592 0.5601592 ...   0.5598284 0.5656863 0.5663279\n",
       "[4,] 0.5482895 0.5460351 0.5460351 ...   0.5457037 0.5515104 0.5521206\n",
       "[5,] 0.9911179 0.9943991 0.9943991 ...   0.9878457 0.9873951 0.9934310\n",
       "[6,] 0.9943989 0.9911179 0.9911179 ...   0.9911175 0.9906650 0.9967108\n",
       "     [,15]     [,16]     [,17]     [,18]     [,19]     [,20]     [,21]    \n",
       "[1,] 0.9939449 0.9906170 0.9818296 0.9967142 0.9911145 0.9883695 0.9906727\n",
       "[2,] 0.9943970 0.9967177 0.9879214 0.9971666 0.9972257 0.9888295 0.9911149\n",
       "[3,] 0.5669086 0.5622271 0.5694900 0.5645816 0.5647670 0.5706569 0.5695369\n",
       "[4,] 0.5526663 0.5480733 0.5552418 0.5503720 0.5505801 0.5563957 0.5552651\n",
       "[5,] 0.9912013 0.9878463 0.9790970 0.9939518 0.9883617 0.9911242 0.9879298\n",
       "[6,] 0.9944729 0.9911179 0.9823416 0.9972323 0.9916339 0.9944121 0.9911920"
      ]
     },
     "metadata": {},
     "output_type": "display_data"
    }
   ],
   "source": [
    "head(randMat)"
   ]
  },
  {
   "cell_type": "markdown",
   "metadata": {},
   "source": [
    "Now in particular we're interested in the segmentation which gave the highest on average randIndex to all other segmentations, the 'bestRandIndex'."
   ]
  },
  {
   "cell_type": "code",
   "execution_count": 117,
   "metadata": {},
   "outputs": [
    {
     "name": "stdout",
     "output_type": "stream",
     "text": [
      "[1] \"Our Best Average Rand Index\"\n"
     ]
    },
    {
     "data": {
      "text/html": [
       "0.935004250508344"
      ],
      "text/latex": [
       "0.935004250508344"
      ],
      "text/markdown": [
       "0.935004250508344"
      ],
      "text/plain": [
       "[1] 0.9350043"
      ]
     },
     "metadata": {},
     "output_type": "display_data"
    },
    {
     "data": {
      "text/html": [
       "<table>\n",
       "<thead><tr><th></th><th scope=col>PC1</th><th scope=col>PC2</th><th scope=col>PC3</th><th scope=col>PC4</th><th scope=col>PC5</th><th scope=col>segment</th><th scope=col>run</th></tr></thead>\n",
       "<tbody>\n",
       "\t<tr><th scope=row>141</th><td> 0.6731719 </td><td> 0.6740064 </td><td> 0.05896585</td><td> 0.59107895</td><td>-0.2979266 </td><td>1          </td><td>36         </td></tr>\n",
       "\t<tr><th scope=row>142</th><td>-1.6083408 </td><td> 0.0611783 </td><td> 0.06130435</td><td> 0.03466128</td><td> 0.1295126 </td><td>2          </td><td>36         </td></tr>\n",
       "\t<tr><th scope=row>143</th><td> 0.6582604 </td><td>-1.1641874 </td><td>-4.67900791</td><td>-0.35501324</td><td>-0.2415868 </td><td>3          </td><td>36         </td></tr>\n",
       "\t<tr><th scope=row>144</th><td> 0.5785312 </td><td>-0.6433193 </td><td> 0.41342246</td><td>-0.60984570</td><td> 0.2466979 </td><td>4          </td><td>36         </td></tr>\n",
       "</tbody>\n",
       "</table>\n"
      ],
      "text/latex": [
       "\\begin{tabular}{r|lllllll}\n",
       "  & PC1 & PC2 & PC3 & PC4 & PC5 & segment & run\\\\\n",
       "\\hline\n",
       "\t141 &  0.6731719  &  0.6740064  &  0.05896585 &  0.59107895 & -0.2979266  & 1           & 36         \\\\\n",
       "\t142 & -1.6083408  &  0.0611783  &  0.06130435 &  0.03466128 &  0.1295126  & 2           & 36         \\\\\n",
       "\t143 &  0.6582604  & -1.1641874  & -4.67900791 & -0.35501324 & -0.2415868  & 3           & 36         \\\\\n",
       "\t144 &  0.5785312  & -0.6433193  &  0.41342246 & -0.60984570 &  0.2466979  & 4           & 36         \\\\\n",
       "\\end{tabular}\n"
      ],
      "text/markdown": [
       "\n",
       "| <!--/--> | PC1 | PC2 | PC3 | PC4 | PC5 | segment | run | \n",
       "|---|---|---|---|\n",
       "| 141 |  0.6731719  |  0.6740064  |  0.05896585 |  0.59107895 | -0.2979266  | 1           | 36          | \n",
       "| 142 | -1.6083408  |  0.0611783  |  0.06130435 |  0.03466128 |  0.1295126  | 2           | 36          | \n",
       "| 143 |  0.6582604  | -1.1641874  | -4.67900791 | -0.35501324 | -0.2415868  | 3           | 36          | \n",
       "| 144 |  0.5785312  | -0.6433193  |  0.41342246 | -0.60984570 |  0.2466979  | 4           | 36          | \n",
       "\n",
       "\n"
      ],
      "text/plain": [
       "    PC1        PC2        PC3         PC4         PC5        segment run\n",
       "141  0.6731719  0.6740064  0.05896585  0.59107895 -0.2979266 1       36 \n",
       "142 -1.6083408  0.0611783  0.06130435  0.03466128  0.1295126 2       36 \n",
       "143  0.6582604 -1.1641874 -4.67900791 -0.35501324 -0.2415868 3       36 \n",
       "144  0.5785312 -0.6433193  0.41342246 -0.60984570  0.2466979 4       36 "
      ]
     },
     "metadata": {},
     "output_type": "display_data"
    }
   ],
   "source": [
    "randMatAverages <- (colSums(randMat)-1)/(bootstraps-1)\n",
    "bestRandIndex <- max((colSums(randMat)-1)/(bootstraps-1)) #Mean Rand Index to all OTHER clusters..ignoring the perfect 1.0 match to your own\n",
    "print('Our Best Average Rand Index')\n",
    "bestRandIndex\n",
    "output[output$run == which.max(randMatAverages),] #Most Consistent Cluster"
   ]
  },
  {
   "cell_type": "code",
   "execution_count": 118,
   "metadata": {},
   "outputs": [
    {
     "data": {
      "text/html": [
       "<table>\n",
       "<thead><tr><th></th><th scope=col>WAGP</th><th scope=col>WKHP</th><th scope=col>SCHL</th><th scope=col>OIP</th><th scope=col>INTP</th><th scope=col>AGEP</th><th scope=col>segment</th><th scope=col>run</th><th scope=col>size</th></tr></thead>\n",
       "<tbody>\n",
       "\t<tr><th scope=row>141</th><td> 25660.93  </td><td>36.32985   </td><td>18.70279   </td><td>   33.14192</td><td>  70.86722 </td><td>30.50898   </td><td>1          </td><td>36         </td><td>0.35577    </td></tr>\n",
       "\t<tr><th scope=row>142</th><td>100102.51  </td><td>47.27152   </td><td>20.86084   </td><td>   15.98853</td><td>4088.97939 </td><td>48.61936   </td><td>2          </td><td>36         </td><td>0.27895    </td></tr>\n",
       "\t<tr><th scope=row>143</th><td> 32422.05  </td><td>37.63651   </td><td>18.56930   </td><td>10310.48640</td><td>1209.96260 </td><td>44.90220   </td><td>3          </td><td>36         </td><td>0.03824    </td></tr>\n",
       "\t<tr><th scope=row>144</th><td> 27171.69  </td><td>34.94606   </td><td>16.62280   </td><td>   31.63436</td><td> 601.99783 </td><td>55.06751   </td><td>4          </td><td>36         </td><td>0.32704    </td></tr>\n",
       "</tbody>\n",
       "</table>\n"
      ],
      "text/latex": [
       "\\begin{tabular}{r|lllllllll}\n",
       "  & WAGP & WKHP & SCHL & OIP & INTP & AGEP & segment & run & size\\\\\n",
       "\\hline\n",
       "\t141 &  25660.93   & 36.32985    & 18.70279    &    33.14192 &   70.86722  & 30.50898    & 1           & 36          & 0.35577    \\\\\n",
       "\t142 & 100102.51   & 47.27152    & 20.86084    &    15.98853 & 4088.97939  & 48.61936    & 2           & 36          & 0.27895    \\\\\n",
       "\t143 &  32422.05   & 37.63651    & 18.56930    & 10310.48640 & 1209.96260  & 44.90220    & 3           & 36          & 0.03824    \\\\\n",
       "\t144 &  27171.69   & 34.94606    & 16.62280    &    31.63436 &  601.99783  & 55.06751    & 4           & 36          & 0.32704    \\\\\n",
       "\\end{tabular}\n"
      ],
      "text/markdown": [
       "\n",
       "| <!--/--> | WAGP | WKHP | SCHL | OIP | INTP | AGEP | segment | run | size | \n",
       "|---|---|---|---|\n",
       "| 141 |  25660.93   | 36.32985    | 18.70279    |    33.14192 |   70.86722  | 30.50898    | 1           | 36          | 0.35577     | \n",
       "| 142 | 100102.51   | 47.27152    | 20.86084    |    15.98853 | 4088.97939  | 48.61936    | 2           | 36          | 0.27895     | \n",
       "| 143 |  32422.05   | 37.63651    | 18.56930    | 10310.48640 | 1209.96260  | 44.90220    | 3           | 36          | 0.03824     | \n",
       "| 144 |  27171.69   | 34.94606    | 16.62280    |    31.63436 |  601.99783  | 55.06751    | 4           | 36          | 0.32704     | \n",
       "\n",
       "\n"
      ],
      "text/plain": [
       "    WAGP      WKHP     SCHL     OIP         INTP       AGEP     segment run\n",
       "141  25660.93 36.32985 18.70279    33.14192   70.86722 30.50898 1       36 \n",
       "142 100102.51 47.27152 20.86084    15.98853 4088.97939 48.61936 2       36 \n",
       "143  32422.05 37.63651 18.56930 10310.48640 1209.96260 44.90220 3       36 \n",
       "144  27171.69 34.94606 16.62280    31.63436  601.99783 55.06751 4       36 \n",
       "    size   \n",
       "141 0.35577\n",
       "142 0.27895\n",
       "143 0.03824\n",
       "144 0.32704"
      ]
     },
     "metadata": {},
     "output_type": "display_data"
    }
   ],
   "source": [
    "as.data.frame(outputRaw[outputRaw$run == which.max(randMatAverages),])"
   ]
  },
  {
   "cell_type": "markdown",
   "metadata": {},
   "source": [
    "Our best run was 87. Let's visualize those results, which look identical to our last article."
   ]
  },
  {
   "cell_type": "code",
   "execution_count": 119,
   "metadata": {},
   "outputs": [
    {
     "data": {
      "image/png": "[encoded data removed]",
      "text/plain": [
       "Plot with title \"Color Key\""
      ]
     },
     "metadata": {},
     "output_type": "display_data"
    },
    {
     "data": {
      "image/png": "[encoded data removed]",
      "text/plain": [
       "Plot with title \"Color Key\""
      ]
     },
     "metadata": {},
     "output_type": "display_data"
    }
   ],
   "source": [
    "outputPlot <- as.matrix(as.data.frame(output[output$run == which.max(randMatAverages),])[,1:5])\n",
    "outputPlotRaw <- as.matrix(as.data.frame(outputRaw[outputRaw$run == which.max(randMatAverages),])[,1:6])\n",
    "\n",
    "heatmap.2(outputPlot,scale = \"column\",notecol = \"black\",Rowv = \"False\",Colv = \"False\"\n",
    "                 ,main = \"Final Segmentation (Run 36)\",col = mypalette,key.xlab = \"Low (Red) to High (Blue)\", trace = \"none\",density.info = \"none\")\n",
    "\n",
    "heatmap.2(outputPlotRaw,scale = \"column\",notecol = \"black\",Rowv = \"False\",Colv = \"False\"\n",
    "                 ,main = \"Final Segmentation (Run 36)\",col = mypalette,key.xlab = \"Low (Red) to High (Blue)\", trace = \"none\",density.info = \"none\")\n"
   ]
  },
  {
   "cell_type": "markdown",
   "metadata": {},
   "source": [
    "So what have we learned from doing 100 runs of this segmentation? Well first we know that the above segmentation has the best on average randIndex to all other runs and that the best average segmentation we can expect from k = 4 will only agree with other segmentations about 81% of the time (calculation below). A better way of looking at this is to keep in mind the best average randIndex is 0.94."
   ]
  },
  {
   "cell_type": "code",
   "execution_count": 120,
   "metadata": {},
   "outputs": [
    {
     "data": {
      "text/html": [
       "0.81"
      ],
      "text/latex": [
       "0.81"
      ],
      "text/markdown": [
       "0.81"
      ],
      "text/plain": [
       "[1] 0.81"
      ]
     },
     "metadata": {},
     "output_type": "display_data"
    }
   ],
   "source": [
    "mean(randMat[36,]> .95)"
   ]
  },
  {
   "cell_type": "markdown",
   "metadata": {},
   "source": [
    "### Picking K\n",
    "\n",
    "So how to do we pick k? If we only care about the model being stable (which we do) then our metric of choice is this average randIndex. Now we simply have to set up a loop and go through each k we want to consider."
   ]
  },
  {
   "cell_type": "code",
   "execution_count": 121,
   "metadata": {
    "scrolled": true
   },
   "outputs": [
    {
     "name": "stdout",
     "output_type": "stream",
     "text": [
      "[1] \"Clustering Complete:  61  seconds\"\n",
      "[1] \"Rand Indexing Complete:  8.46000000000004  seconds\"\n",
      "[1] \"Optimal Cluster Determined\"\n",
      "        WAGP     WKHP     SCHL        OIP       INTP     AGEP segment run\n",
      "85  32533.14 37.65234 18.58286 9861.28683 1056.88402 45.25574       1  22\n",
      "86 100867.33 47.32437 20.87530   16.10355 4190.61324 48.70672       2  22\n",
      "87  25609.53 36.35942 18.65858   33.24220   88.83844 30.59339       3  22\n",
      "88  27436.34 35.07576 16.62115   31.00547  544.58281 55.19253       4  22\n",
      "      size      rand ksize\n",
      "85 0.03699 0.9245743     4\n",
      "86 0.27891 0.9245743     4\n",
      "87 0.35516 0.9245743     4\n",
      "88 0.32894 0.9245743     4\n",
      "[1] \"Clustering Complete:  74  seconds\"\n",
      "[1] \"Rand Indexing Complete:  9.14999999999964  seconds\"\n",
      "[1] \"Optimal Cluster Determined\"\n",
      "         WAGP     WKHP     SCHL        OIP        INTP     AGEP segment run\n",
      "136  31362.95 37.91407 18.50124 9904.57174   358.19168 44.67750       1  28\n",
      "137 110956.53 39.84156 20.54442  279.01777 57379.91115 55.70089       2  28\n",
      "138  26970.73 34.84166 16.45336   28.67899   228.48427 55.04581       3  28\n",
      "139  93482.26 47.24035 20.75828   17.28800   437.18725 47.63064       4  28\n",
      "140  24034.04 35.67695 18.59597   31.56095    58.16449 30.12178       5  28\n",
      "       size      rand ksize\n",
      "136 0.03631 0.8420015     5\n",
      "137 0.02026 0.8420015     5\n",
      "138 0.31476 0.8420015     5\n",
      "139 0.29340 0.8420015     5\n",
      "140 0.33527 0.8420015     5\n",
      "[1] \"Clustering Complete:  115  seconds\"\n",
      "[1] \"Rand Indexing Complete:  8.5  seconds\"\n",
      "[1] \"Optimal Cluster Determined\"\n",
      "         WAGP     WKHP     SCHL         OIP        INTP     AGEP segment run\n",
      "289  32050.49 37.68210 18.56015 10182.48835   355.82516 45.19512       1  49\n",
      "290 112180.62 40.10083 20.57911   374.79835 60957.29059 55.37746       2  49\n",
      "291  25120.35 36.26437 19.10029    31.78489    58.02562 29.34967       3  49\n",
      "292  94263.65 46.50738 20.91904    16.66077   469.53839 48.46699       4  49\n",
      "293  14361.52 21.84666 18.75277    35.04397   444.89715 56.77687       5  49\n",
      "294  33027.39 42.24771 15.12815    31.02156   127.04896 49.34659       6  49\n",
      "       size      rand ksize\n",
      "289 0.03649 0.8866712     6\n",
      "290 0.01934 0.8866712     6\n",
      "291 0.28887 0.8866712     6\n",
      "292 0.28249 0.8866712     6\n",
      "293 0.12280 0.8866712     6\n",
      "294 0.25001 0.8866712     6\n",
      "[1] \"Clustering Complete:  151  seconds\"\n",
      "[1] \"Rand Indexing Complete:  9.29999999999927  seconds\"\n",
      "[1] \"Optimal Cluster Determined\"\n",
      "         WAGP     WKHP     SCHL         OIP        INTP     AGEP segment run\n",
      "638  31698.72 42.64875 14.47986    29.76801   114.66699 47.49112       1  92\n",
      "639  32051.72 38.02772 18.61774 10166.47307   356.39308 45.18532       2  92\n",
      "640 124771.70 50.98251 21.13643    16.53280   540.79112 45.46122       3  92\n",
      "641  11406.37 18.72111 18.29520    38.25472   425.91303 56.34994       4  92\n",
      "642 113090.53 40.45320 20.53695   458.59113 62733.54680 55.26700       5  92\n",
      "643  24865.34 36.01426 19.16658    29.78949    57.66149 28.54258       6  92\n",
      "644  50088.59 40.66711 20.11743    22.94380   298.60934 52.83751       7  92\n",
      "       size      rand ksize\n",
      "638 0.20777 0.6206485     7\n",
      "639 0.03788 0.6206485     7\n",
      "640 0.14865 0.6206485     7\n",
      "641 0.10176 0.6206485     7\n",
      "642 0.02030 0.6206485     7\n",
      "643 0.26726 0.6206485     7\n",
      "644 0.21638 0.6206485     7\n",
      "[1] \"Clustering Complete:  170  seconds\"\n",
      "[1] \"Rand Indexing Complete:  8.67000000000007  seconds\"\n",
      "[1] \"Optimal Cluster Determined\"\n",
      "         WAGP     WKHP     SCHL         OIP        INTP     AGEP segment run\n",
      "41  26086.168 41.85343 14.08371    33.61584    54.60655 39.16352       1   6\n",
      "42  32478.782 37.92730 18.50041 10120.52126   302.03676 45.25844       2   6\n",
      "43 113247.012 40.43373 20.58988   324.30843 60449.87952 55.46361       3   6\n",
      "44   9947.328 22.40489 18.81270    42.28527    52.87069 28.39948       4   6\n",
      "45  43168.142 41.34285 18.45945    26.18069   265.88966 56.20455       5   6\n",
      "46  12486.143 19.29026 18.22484    40.30026   499.92087 60.22740       6   6\n",
      "47  41039.802 42.27084 20.34392    24.60697   101.53283 32.91598       7   6\n",
      "48 127905.695 49.69829 21.22601    17.55880   623.27023 49.14723       8   6\n",
      "      size      rand ksize\n",
      "41 0.17227 0.7968422     8\n",
      "42 0.03645 0.7968422     8\n",
      "43 0.02075 0.7968422     8\n",
      "44 0.09605 0.7968422     8\n",
      "45 0.21750 0.7968422     8\n",
      "46 0.08606 0.7968422     8\n",
      "47 0.22482 0.7968422     8\n",
      "48 0.14610 0.7968422     8\n",
      "[1] \"Clustering Complete:  126  seconds\"\n",
      "[1] \"Rand Indexing Complete:  7.76000000000022  seconds\"\n",
      "[1] \"Optimal Cluster Determined\"\n",
      "         WAGP     WKHP     SCHL         OIP        INTP     AGEP segment run\n",
      "280  35230.94 42.45607 15.02346    30.56081   164.47191 54.23804       1  32\n",
      "281  31533.70 37.77616 18.54543 10271.22797   302.91575 44.71145       2  32\n",
      "282 111343.39 40.27571 20.47320   401.71898 61437.32496 55.50652       3  32\n",
      "283  23309.30 40.92065 14.85347    39.87076    28.50889 31.74728       4  32\n",
      "284  11679.36 18.84979 18.22236    41.19995   505.12453 60.35130       5  32\n",
      "285  10010.57 21.58192 19.04992    41.28578    63.49718 28.83897       6  32\n",
      "286  51236.72 40.42548 20.25134    25.27610   327.06370 54.35682       7  32\n",
      "287  41451.34 42.59563 20.37627    21.31184   102.65319 32.04073       8  32\n",
      "288 140998.62 51.69720 21.17047    15.01643   672.93556 48.19443       9  32\n",
      "       size     rand ksize\n",
      "280 0.15342 0.958724     9\n",
      "281 0.03632 0.958724     9\n",
      "282 0.02071 0.958724     9\n",
      "283 0.12148 0.958724     9\n",
      "284 0.07942 0.958724     9\n",
      "285 0.08874 0.958724     9\n",
      "286 0.17928 0.958724     9\n",
      "287 0.20501 0.958724     9\n",
      "288 0.11562 0.958724     9\n",
      "[1] \"Clustering Complete:  153  seconds\"\n",
      "[1] \"Rand Indexing Complete:  8.40999999999985  seconds\"\n",
      "[1] \"Optimal Cluster Determined\"\n",
      "          WAGP     WKHP     SCHL         OIP        INTP     AGEP segment run\n",
      "841  51207.324 40.70120 20.19643    24.44655   315.54334 54.31767       1  85\n",
      "842  32119.690 37.67624 18.59983 10130.53542   332.61963 45.12632       2  85\n",
      "843 114620.648 40.21163 20.50688   553.45232 61281.23406 55.67619       3  85\n",
      "844  37450.509 43.55687 15.14940    30.49092   178.54899 53.82173       4  85\n",
      "845  23245.529 41.06282 14.91232    37.19588    26.49570 31.59973       5  85\n",
      "846 141688.227 51.51355 21.22301    13.95765   658.76715 48.27068       6  85\n",
      "847  41430.342 42.56953 20.38402    26.46077    98.58687 32.18881       7  85\n",
      "848  11104.554 22.04131 14.72967    41.87928   253.76841 57.58840       8  85\n",
      "849   9885.021 21.84515 19.08202    41.56160    51.64768 27.96108       9  85\n",
      "850  14576.417 19.01932 20.41955    43.67150   656.24954 58.93627      10  85\n",
      "       size      rand ksize\n",
      "841 0.17915 0.8828692    10\n",
      "842 0.03586 0.8828692    10\n",
      "843 0.01961 0.8828692    10\n",
      "844 0.14585 0.8828692    10\n",
      "845 0.11747 0.8828692    10\n",
      "846 0.11475 0.8828692    10\n",
      "847 0.20301 0.8828692    10\n",
      "848 0.04672 0.8828692    10\n",
      "849 0.08376 0.8828692    10\n",
      "850 0.05382 0.8828692    10\n"
     ]
    }
   ],
   "source": [
    "#Turn Off Warnings\n",
    "options(warn=-1)\n",
    "\n",
    "\n",
    "finalTable <- c()\n",
    "models <- list()\n",
    "\n",
    "for (ksize in 4:10) {\n",
    "    \n",
    "    bootstraps <- 100 #Produce 100 segmentations\n",
    "\n",
    "    ptm <- proc.time() \n",
    "\n",
    "    cl <- makeCluster(6) #Use 6 cores\n",
    "    registerDoParallel(cl) # Start Parallel\n",
    "\n",
    "    finalOutput <- foreach( iclustering = 1:bootstraps, .combine = c, .export = c('kcca','kccaFamily','predict') ) %dopar%\n",
    "      SegmentationLoop( ksize, train, trainRaw, holdout[1:1000,], run = iclustering)\n",
    "\n",
    "    stopCluster(cl)\n",
    "\n",
    "    print(paste(\"Clustering Complete: \",round(proc.time() - ptm )[3],\" seconds\"))\n",
    "    \n",
    "    #Combine the outputs\n",
    "    \n",
    "    output <- do.call('rbind',(finalOutput[(1:bootstraps*4 - 3)]))\n",
    "    outputRaw <- do.call('rbind',(finalOutput[(1:bootstraps*4 - 2)]))\n",
    "    labelResults <- do.call('rbind',(finalOutput[(1:bootstraps*4 - 1)]))\n",
    "    modelResults <- finalOutput[(1:bootstraps*4)]\n",
    "    \n",
    "    #Calculating the rand distance matrix\n",
    "    \n",
    "    gridDef <- expand.grid(1:bootstraps,1:bootstraps)\n",
    "    \n",
    "    ptm <- proc.time() \n",
    "\n",
    "    cl <- makeCluster(6) #Use 6 cores\n",
    "    registerDoParallel(cl) # Start Parallel\n",
    "\n",
    "    randMatOutput <- foreach( irand = 1:(bootstraps^2), .combine = c, .export = c('randIndex') ) %dopar%\n",
    "      {randIndex(labelResults[gridDef$Var1[irand],],labelResults[gridDef$Var2[irand],])}\n",
    "\n",
    "    stopCluster(cl)\n",
    "\n",
    "    randMat <- matrix(randMatOutput, nrow = bootstraps)\n",
    "\n",
    "    print(paste(\"Rand Indexing Complete: \",(proc.time() - ptm )[3],\" seconds\"))\n",
    "    \n",
    "    #Picking the best segmentation\n",
    "    \n",
    "    randMatAverages <- (colSums(randMat)-1)/(bootstraps-1)\n",
    "    bestRandIndex <- max((colSums(randMat)-1)/(bootstraps-1)) #Mean Rand Index to all OTHER clusters..ignoring the perfect 1.0 match to your own\n",
    "    output[output$run == which.max(randMatAverages),] #Most Consistent Cluster\n",
    "    \n",
    "    \n",
    "    finalTableEntry <- outputRaw[outputRaw$run == which.max(randMatAverages),] #Most Consistent Cluster\n",
    "    finalTableEntry$rand <- bestRandIndex\n",
    "    finalTableEntry$ksize <- ksize\n",
    "    \n",
    "    finalTable <- rbind(finalTable,finalTableEntry)\n",
    "    models[length(models) + 1] <- modelResults[which.max(randMatAverages)][[1]]\n",
    "    \n",
    "    print(\"Optimal Cluster Determined\")\n",
    "    print(finalTableEntry)\n",
    "}\n",
    "\n",
    "#Turn On Warnings\n",
    "options(warn=0)"
   ]
  },
  {
   "cell_type": "markdown",
   "metadata": {},
   "source": [
    "### Conclusions\n",
    "\n",
    "Let's finally plot the highest average adjusted rand index (ARI) over k. As you'll see stability doesn't always become better as we increase k. Some values of k are quite unstable and we really shouldn't consider them for analysis. In the graph below it's clear that k = 4 and k = 9 are quite stable (just like we found a few years ago).\n",
    "\n",
    "In practice I'm interested in segmentations that have an average ARI of > 0.9 and I should mention that running only 100 runs (or bootstraps) is a little low. When calculating the average ARI multiple times I've seen some fluctuations of around ~5% . For instance the first time we ran an evalutation of k = 4 we saw an average ARI of 0.935 in line 117 and in the line above we see 0.924. It's probably good practice to pick a larger number of runs ( >250 ) if you want a lower error in your ARI calculation."
   ]
  },
  {
   "cell_type": "code",
   "execution_count": 122,
   "metadata": {},
   "outputs": [
    {
     "data": {},
     "metadata": {},
     "output_type": "display_data"
    },
    {
     "data": {
      "image/png": "[encoded data removed]",
      "text/plain": [
       "plot without title"
      ]
     },
     "metadata": {},
     "output_type": "display_data"
    }
   ],
   "source": [
    "ggplot(finalTable, aes(x = ksize, y = rand)) + geom_line() + labs(x = 'k = Number of Segments', y = 'Highest Average Rand Index')"
   ]
  },
  {
   "cell_type": "markdown",
   "metadata": {},
   "source": [
    "It's also worth showing the final output of our method, a list of the centers of every winning/highest ARI segmentation for every k considered. This table was used to make the above graph.\n",
    "\n",
    "Thanks again for reading my article and I hope that I've at least demonstrated why I believe stability (along with a balance on interpretibility and stability) is necessary in order to pick the 'right' k."
   ]
  },
  {
   "cell_type": "code",
   "execution_count": 123,
   "metadata": {},
   "outputs": [
    {
     "data": {
      "text/html": [
       "<table>\n",
       "<thead><tr><th></th><th scope=col>WAGP</th><th scope=col>WKHP</th><th scope=col>SCHL</th><th scope=col>OIP</th><th scope=col>INTP</th><th scope=col>AGEP</th><th scope=col>segment</th><th scope=col>run</th><th scope=col>size</th><th scope=col>rand</th><th scope=col>ksize</th></tr></thead>\n",
       "<tbody>\n",
       "\t<tr><th scope=row>85</th><td> 32533.139 </td><td>37.65234   </td><td>18.58286   </td><td> 9861.28683</td><td> 1056.88402</td><td>45.25574   </td><td> 1         </td><td>22         </td><td>0.03699    </td><td>0.9245743  </td><td> 4         </td></tr>\n",
       "\t<tr><th scope=row>86</th><td>100867.328 </td><td>47.32437   </td><td>20.87530   </td><td>   16.10355</td><td> 4190.61324</td><td>48.70672   </td><td> 2         </td><td>22         </td><td>0.27891    </td><td>0.9245743  </td><td> 4         </td></tr>\n",
       "\t<tr><th scope=row>87</th><td> 25609.529 </td><td>36.35942   </td><td>18.65858   </td><td>   33.24220</td><td>   88.83844</td><td>30.59339   </td><td> 3         </td><td>22         </td><td>0.35516    </td><td>0.9245743  </td><td> 4         </td></tr>\n",
       "\t<tr><th scope=row>88</th><td> 27436.337 </td><td>35.07576   </td><td>16.62115   </td><td>   31.00547</td><td>  544.58281</td><td>55.19253   </td><td> 4         </td><td>22         </td><td>0.32894    </td><td>0.9245743  </td><td> 4         </td></tr>\n",
       "\t<tr><th scope=row>136</th><td> 31362.952 </td><td>37.91407   </td><td>18.50124   </td><td> 9904.57174</td><td>  358.19168</td><td>44.67750   </td><td> 1         </td><td>28         </td><td>0.03631    </td><td>0.8420015  </td><td> 5         </td></tr>\n",
       "\t<tr><th scope=row>137</th><td>110956.530 </td><td>39.84156   </td><td>20.54442   </td><td>  279.01777</td><td>57379.91115</td><td>55.70089   </td><td> 2         </td><td>28         </td><td>0.02026    </td><td>0.8420015  </td><td> 5         </td></tr>\n",
       "\t<tr><th scope=row>138</th><td> 26970.734 </td><td>34.84166   </td><td>16.45336   </td><td>   28.67899</td><td>  228.48427</td><td>55.04581   </td><td> 3         </td><td>28         </td><td>0.31476    </td><td>0.8420015  </td><td> 5         </td></tr>\n",
       "\t<tr><th scope=row>139</th><td> 93482.265 </td><td>47.24035   </td><td>20.75828   </td><td>   17.28800</td><td>  437.18725</td><td>47.63064   </td><td> 4         </td><td>28         </td><td>0.29340    </td><td>0.8420015  </td><td> 5         </td></tr>\n",
       "\t<tr><th scope=row>140</th><td> 24034.041 </td><td>35.67695   </td><td>18.59597   </td><td>   31.56095</td><td>   58.16449</td><td>30.12178   </td><td> 5         </td><td>28         </td><td>0.33527    </td><td>0.8420015  </td><td> 5         </td></tr>\n",
       "\t<tr><th scope=row>289</th><td> 32050.488 </td><td>37.68210   </td><td>18.56015   </td><td>10182.48835</td><td>  355.82516</td><td>45.19512   </td><td> 1         </td><td>49         </td><td>0.03649    </td><td>0.8866712  </td><td> 6         </td></tr>\n",
       "\t<tr><th scope=row>290</th><td>112180.615 </td><td>40.10083   </td><td>20.57911   </td><td>  374.79835</td><td>60957.29059</td><td>55.37746   </td><td> 2         </td><td>49         </td><td>0.01934    </td><td>0.8866712  </td><td> 6         </td></tr>\n",
       "\t<tr><th scope=row>291</th><td> 25120.347 </td><td>36.26437   </td><td>19.10029   </td><td>   31.78489</td><td>   58.02562</td><td>29.34967   </td><td> 3         </td><td>49         </td><td>0.28887    </td><td>0.8866712  </td><td> 6         </td></tr>\n",
       "\t<tr><th scope=row>292</th><td> 94263.647 </td><td>46.50738   </td><td>20.91904   </td><td>   16.66077</td><td>  469.53839</td><td>48.46699   </td><td> 4         </td><td>49         </td><td>0.28249    </td><td>0.8866712  </td><td> 6         </td></tr>\n",
       "\t<tr><th scope=row>293</th><td> 14361.518 </td><td>21.84666   </td><td>18.75277   </td><td>   35.04397</td><td>  444.89715</td><td>56.77687   </td><td> 5         </td><td>49         </td><td>0.12280    </td><td>0.8866712  </td><td> 6         </td></tr>\n",
       "\t<tr><th scope=row>294</th><td> 33027.389 </td><td>42.24771   </td><td>15.12815   </td><td>   31.02156</td><td>  127.04896</td><td>49.34659   </td><td> 6         </td><td>49         </td><td>0.25001    </td><td>0.8866712  </td><td> 6         </td></tr>\n",
       "\t<tr><th scope=row>638</th><td> 31698.716 </td><td>42.64875   </td><td>14.47986   </td><td>   29.76801</td><td>  114.66699</td><td>47.49112   </td><td> 1         </td><td>92         </td><td>0.20777    </td><td>0.6206485  </td><td> 7         </td></tr>\n",
       "\t<tr><th scope=row>639</th><td> 32051.716 </td><td>38.02772   </td><td>18.61774   </td><td>10166.47307</td><td>  356.39308</td><td>45.18532   </td><td> 2         </td><td>92         </td><td>0.03788    </td><td>0.6206485  </td><td> 7         </td></tr>\n",
       "\t<tr><th scope=row>640</th><td>124771.699 </td><td>50.98251   </td><td>21.13643   </td><td>   16.53280</td><td>  540.79112</td><td>45.46122   </td><td> 3         </td><td>92         </td><td>0.14865    </td><td>0.6206485  </td><td> 7         </td></tr>\n",
       "\t<tr><th scope=row>641</th><td> 11406.366 </td><td>18.72111   </td><td>18.29520   </td><td>   38.25472</td><td>  425.91303</td><td>56.34994   </td><td> 4         </td><td>92         </td><td>0.10176    </td><td>0.6206485  </td><td> 7         </td></tr>\n",
       "\t<tr><th scope=row>642</th><td>113090.532 </td><td>40.45320   </td><td>20.53695   </td><td>  458.59113</td><td>62733.54680</td><td>55.26700   </td><td> 5         </td><td>92         </td><td>0.02030    </td><td>0.6206485  </td><td> 7         </td></tr>\n",
       "\t<tr><th scope=row>643</th><td> 24865.338 </td><td>36.01426   </td><td>19.16658   </td><td>   29.78949</td><td>   57.66149</td><td>28.54258   </td><td> 6         </td><td>92         </td><td>0.26726    </td><td>0.6206485  </td><td> 7         </td></tr>\n",
       "\t<tr><th scope=row>644</th><td> 50088.592 </td><td>40.66711   </td><td>20.11743   </td><td>   22.94380</td><td>  298.60934</td><td>52.83751   </td><td> 7         </td><td>92         </td><td>0.21638    </td><td>0.6206485  </td><td> 7         </td></tr>\n",
       "\t<tr><th scope=row>41</th><td> 26086.168 </td><td>41.85343   </td><td>14.08371   </td><td>   33.61584</td><td>   54.60655</td><td>39.16352   </td><td> 1         </td><td> 6         </td><td>0.17227    </td><td>0.7968422  </td><td> 8         </td></tr>\n",
       "\t<tr><th scope=row>42</th><td> 32478.782 </td><td>37.92730   </td><td>18.50041   </td><td>10120.52126</td><td>  302.03676</td><td>45.25844   </td><td> 2         </td><td> 6         </td><td>0.03645    </td><td>0.7968422  </td><td> 8         </td></tr>\n",
       "\t<tr><th scope=row>43</th><td>113247.012 </td><td>40.43373   </td><td>20.58988   </td><td>  324.30843</td><td>60449.87952</td><td>55.46361   </td><td> 3         </td><td> 6         </td><td>0.02075    </td><td>0.7968422  </td><td> 8         </td></tr>\n",
       "\t<tr><th scope=row>44</th><td>  9947.328 </td><td>22.40489   </td><td>18.81270   </td><td>   42.28527</td><td>   52.87069</td><td>28.39948   </td><td> 4         </td><td> 6         </td><td>0.09605    </td><td>0.7968422  </td><td> 8         </td></tr>\n",
       "\t<tr><th scope=row>45</th><td> 43168.142 </td><td>41.34285   </td><td>18.45945   </td><td>   26.18069</td><td>  265.88966</td><td>56.20455   </td><td> 5         </td><td> 6         </td><td>0.21750    </td><td>0.7968422  </td><td> 8         </td></tr>\n",
       "\t<tr><th scope=row>46</th><td> 12486.143 </td><td>19.29026   </td><td>18.22484   </td><td>   40.30026</td><td>  499.92087</td><td>60.22740   </td><td> 6         </td><td> 6         </td><td>0.08606    </td><td>0.7968422  </td><td> 8         </td></tr>\n",
       "\t<tr><th scope=row>47</th><td> 41039.802 </td><td>42.27084   </td><td>20.34392   </td><td>   24.60697</td><td>  101.53283</td><td>32.91598   </td><td> 7         </td><td> 6         </td><td>0.22482    </td><td>0.7968422  </td><td> 8         </td></tr>\n",
       "\t<tr><th scope=row>48</th><td>127905.695 </td><td>49.69829   </td><td>21.22601   </td><td>   17.55880</td><td>  623.27023</td><td>49.14723   </td><td> 8         </td><td> 6         </td><td>0.14610    </td><td>0.7968422  </td><td> 8         </td></tr>\n",
       "\t<tr><th scope=row>280</th><td> 35230.937 </td><td>42.45607   </td><td>15.02346   </td><td>   30.56081</td><td>  164.47191</td><td>54.23804   </td><td> 1         </td><td>32         </td><td>0.15342    </td><td>0.9587240  </td><td> 9         </td></tr>\n",
       "\t<tr><th scope=row>281</th><td> 31533.698 </td><td>37.77616   </td><td>18.54543   </td><td>10271.22797</td><td>  302.91575</td><td>44.71145   </td><td> 2         </td><td>32         </td><td>0.03632    </td><td>0.9587240  </td><td> 9         </td></tr>\n",
       "\t<tr><th scope=row>282</th><td>111343.394 </td><td>40.27571   </td><td>20.47320   </td><td>  401.71898</td><td>61437.32496</td><td>55.50652   </td><td> 3         </td><td>32         </td><td>0.02071    </td><td>0.9587240  </td><td> 9         </td></tr>\n",
       "\t<tr><th scope=row>283</th><td> 23309.298 </td><td>40.92065   </td><td>14.85347   </td><td>   39.87076</td><td>   28.50889</td><td>31.74728   </td><td> 4         </td><td>32         </td><td>0.12148    </td><td>0.9587240  </td><td> 9         </td></tr>\n",
       "\t<tr><th scope=row>284</th><td> 11679.358 </td><td>18.84979   </td><td>18.22236   </td><td>   41.19995</td><td>  505.12453</td><td>60.35130   </td><td> 5         </td><td>32         </td><td>0.07942    </td><td>0.9587240  </td><td> 9         </td></tr>\n",
       "\t<tr><th scope=row>285</th><td> 10010.569 </td><td>21.58192   </td><td>19.04992   </td><td>   41.28578</td><td>   63.49718</td><td>28.83897   </td><td> 6         </td><td>32         </td><td>0.08874    </td><td>0.9587240  </td><td> 9         </td></tr>\n",
       "\t<tr><th scope=row>286</th><td> 51236.721 </td><td>40.42548   </td><td>20.25134   </td><td>   25.27610</td><td>  327.06370</td><td>54.35682   </td><td> 7         </td><td>32         </td><td>0.17928    </td><td>0.9587240  </td><td> 9         </td></tr>\n",
       "\t<tr><th scope=row>287</th><td> 41451.343 </td><td>42.59563   </td><td>20.37627   </td><td>   21.31184</td><td>  102.65319</td><td>32.04073   </td><td> 8         </td><td>32         </td><td>0.20501    </td><td>0.9587240  </td><td> 9         </td></tr>\n",
       "\t<tr><th scope=row>288</th><td>140998.625 </td><td>51.69720   </td><td>21.17047   </td><td>   15.01643</td><td>  672.93556</td><td>48.19443   </td><td> 9         </td><td>32         </td><td>0.11562    </td><td>0.9587240  </td><td> 9         </td></tr>\n",
       "\t<tr><th scope=row>841</th><td> 51207.324 </td><td>40.70120   </td><td>20.19643   </td><td>   24.44655</td><td>  315.54334</td><td>54.31767   </td><td> 1         </td><td>85         </td><td>0.17915    </td><td>0.8828692  </td><td>10         </td></tr>\n",
       "\t<tr><th scope=row>842</th><td> 32119.690 </td><td>37.67624   </td><td>18.59983   </td><td>10130.53542</td><td>  332.61963</td><td>45.12632   </td><td> 2         </td><td>85         </td><td>0.03586    </td><td>0.8828692  </td><td>10         </td></tr>\n",
       "\t<tr><th scope=row>843</th><td>114620.648 </td><td>40.21163   </td><td>20.50688   </td><td>  553.45232</td><td>61281.23406</td><td>55.67619   </td><td> 3         </td><td>85         </td><td>0.01961    </td><td>0.8828692  </td><td>10         </td></tr>\n",
       "\t<tr><th scope=row>844</th><td> 37450.509 </td><td>43.55687   </td><td>15.14940   </td><td>   30.49092</td><td>  178.54899</td><td>53.82173   </td><td> 4         </td><td>85         </td><td>0.14585    </td><td>0.8828692  </td><td>10         </td></tr>\n",
       "\t<tr><th scope=row>845</th><td> 23245.529 </td><td>41.06282   </td><td>14.91232   </td><td>   37.19588</td><td>   26.49570</td><td>31.59973   </td><td> 5         </td><td>85         </td><td>0.11747    </td><td>0.8828692  </td><td>10         </td></tr>\n",
       "\t<tr><th scope=row>846</th><td>141688.227 </td><td>51.51355   </td><td>21.22301   </td><td>   13.95765</td><td>  658.76715</td><td>48.27068   </td><td> 6         </td><td>85         </td><td>0.11475    </td><td>0.8828692  </td><td>10         </td></tr>\n",
       "\t<tr><th scope=row>847</th><td> 41430.342 </td><td>42.56953   </td><td>20.38402   </td><td>   26.46077</td><td>   98.58687</td><td>32.18881   </td><td> 7         </td><td>85         </td><td>0.20301    </td><td>0.8828692  </td><td>10         </td></tr>\n",
       "\t<tr><th scope=row>848</th><td> 11104.554 </td><td>22.04131   </td><td>14.72967   </td><td>   41.87928</td><td>  253.76841</td><td>57.58840   </td><td> 8         </td><td>85         </td><td>0.04672    </td><td>0.8828692  </td><td>10         </td></tr>\n",
       "\t<tr><th scope=row>849</th><td>  9885.021 </td><td>21.84515   </td><td>19.08202   </td><td>   41.56160</td><td>   51.64768</td><td>27.96108   </td><td> 9         </td><td>85         </td><td>0.08376    </td><td>0.8828692  </td><td>10         </td></tr>\n",
       "\t<tr><th scope=row>850</th><td> 14576.417 </td><td>19.01932   </td><td>20.41955   </td><td>   43.67150</td><td>  656.24954</td><td>58.93627   </td><td>10         </td><td>85         </td><td>0.05382    </td><td>0.8828692  </td><td>10         </td></tr>\n",
       "</tbody>\n",
       "</table>\n"
      ],
      "text/latex": [
       "\\begin{tabular}{r|lllllllllll}\n",
       "  & WAGP & WKHP & SCHL & OIP & INTP & AGEP & segment & run & size & rand & ksize\\\\\n",
       "\\hline\n",
       "\t85 &  32533.139  & 37.65234    & 18.58286    &  9861.28683 &  1056.88402 & 45.25574    &  1          & 22          & 0.03699     & 0.9245743   &  4         \\\\\n",
       "\t86 & 100867.328  & 47.32437    & 20.87530    &    16.10355 &  4190.61324 & 48.70672    &  2          & 22          & 0.27891     & 0.9245743   &  4         \\\\\n",
       "\t87 &  25609.529  & 36.35942    & 18.65858    &    33.24220 &    88.83844 & 30.59339    &  3          & 22          & 0.35516     & 0.9245743   &  4         \\\\\n",
       "\t88 &  27436.337  & 35.07576    & 16.62115    &    31.00547 &   544.58281 & 55.19253    &  4          & 22          & 0.32894     & 0.9245743   &  4         \\\\\n",
       "\t136 &  31362.952  & 37.91407    & 18.50124    &  9904.57174 &   358.19168 & 44.67750    &  1          & 28          & 0.03631     & 0.8420015   &  5         \\\\\n",
       "\t137 & 110956.530  & 39.84156    & 20.54442    &   279.01777 & 57379.91115 & 55.70089    &  2          & 28          & 0.02026     & 0.8420015   &  5         \\\\\n",
       "\t138 &  26970.734  & 34.84166    & 16.45336    &    28.67899 &   228.48427 & 55.04581    &  3          & 28          & 0.31476     & 0.8420015   &  5         \\\\\n",
       "\t139 &  93482.265  & 47.24035    & 20.75828    &    17.28800 &   437.18725 & 47.63064    &  4          & 28          & 0.29340     & 0.8420015   &  5         \\\\\n",
       "\t140 &  24034.041  & 35.67695    & 18.59597    &    31.56095 &    58.16449 & 30.12178    &  5          & 28          & 0.33527     & 0.8420015   &  5         \\\\\n",
       "\t289 &  32050.488  & 37.68210    & 18.56015    & 10182.48835 &   355.82516 & 45.19512    &  1          & 49          & 0.03649     & 0.8866712   &  6         \\\\\n",
       "\t290 & 112180.615  & 40.10083    & 20.57911    &   374.79835 & 60957.29059 & 55.37746    &  2          & 49          & 0.01934     & 0.8866712   &  6         \\\\\n",
       "\t291 &  25120.347  & 36.26437    & 19.10029    &    31.78489 &    58.02562 & 29.34967    &  3          & 49          & 0.28887     & 0.8866712   &  6         \\\\\n",
       "\t292 &  94263.647  & 46.50738    & 20.91904    &    16.66077 &   469.53839 & 48.46699    &  4          & 49          & 0.28249     & 0.8866712   &  6         \\\\\n",
       "\t293 &  14361.518  & 21.84666    & 18.75277    &    35.04397 &   444.89715 & 56.77687    &  5          & 49          & 0.12280     & 0.8866712   &  6         \\\\\n",
       "\t294 &  33027.389  & 42.24771    & 15.12815    &    31.02156 &   127.04896 & 49.34659    &  6          & 49          & 0.25001     & 0.8866712   &  6         \\\\\n",
       "\t638 &  31698.716  & 42.64875    & 14.47986    &    29.76801 &   114.66699 & 47.49112    &  1          & 92          & 0.20777     & 0.6206485   &  7         \\\\\n",
       "\t639 &  32051.716  & 38.02772    & 18.61774    & 10166.47307 &   356.39308 & 45.18532    &  2          & 92          & 0.03788     & 0.6206485   &  7         \\\\\n",
       "\t640 & 124771.699  & 50.98251    & 21.13643    &    16.53280 &   540.79112 & 45.46122    &  3          & 92          & 0.14865     & 0.6206485   &  7         \\\\\n",
       "\t641 &  11406.366  & 18.72111    & 18.29520    &    38.25472 &   425.91303 & 56.34994    &  4          & 92          & 0.10176     & 0.6206485   &  7         \\\\\n",
       "\t642 & 113090.532  & 40.45320    & 20.53695    &   458.59113 & 62733.54680 & 55.26700    &  5          & 92          & 0.02030     & 0.6206485   &  7         \\\\\n",
       "\t643 &  24865.338  & 36.01426    & 19.16658    &    29.78949 &    57.66149 & 28.54258    &  6          & 92          & 0.26726     & 0.6206485   &  7         \\\\\n",
       "\t644 &  50088.592  & 40.66711    & 20.11743    &    22.94380 &   298.60934 & 52.83751    &  7          & 92          & 0.21638     & 0.6206485   &  7         \\\\\n",
       "\t41 &  26086.168  & 41.85343    & 14.08371    &    33.61584 &    54.60655 & 39.16352    &  1          &  6          & 0.17227     & 0.7968422   &  8         \\\\\n",
       "\t42 &  32478.782  & 37.92730    & 18.50041    & 10120.52126 &   302.03676 & 45.25844    &  2          &  6          & 0.03645     & 0.7968422   &  8         \\\\\n",
       "\t43 & 113247.012  & 40.43373    & 20.58988    &   324.30843 & 60449.87952 & 55.46361    &  3          &  6          & 0.02075     & 0.7968422   &  8         \\\\\n",
       "\t44 &   9947.328  & 22.40489    & 18.81270    &    42.28527 &    52.87069 & 28.39948    &  4          &  6          & 0.09605     & 0.7968422   &  8         \\\\\n",
       "\t45 &  43168.142  & 41.34285    & 18.45945    &    26.18069 &   265.88966 & 56.20455    &  5          &  6          & 0.21750     & 0.7968422   &  8         \\\\\n",
       "\t46 &  12486.143  & 19.29026    & 18.22484    &    40.30026 &   499.92087 & 60.22740    &  6          &  6          & 0.08606     & 0.7968422   &  8         \\\\\n",
       "\t47 &  41039.802  & 42.27084    & 20.34392    &    24.60697 &   101.53283 & 32.91598    &  7          &  6          & 0.22482     & 0.7968422   &  8         \\\\\n",
       "\t48 & 127905.695  & 49.69829    & 21.22601    &    17.55880 &   623.27023 & 49.14723    &  8          &  6          & 0.14610     & 0.7968422   &  8         \\\\\n",
       "\t280 &  35230.937  & 42.45607    & 15.02346    &    30.56081 &   164.47191 & 54.23804    &  1          & 32          & 0.15342     & 0.9587240   &  9         \\\\\n",
       "\t281 &  31533.698  & 37.77616    & 18.54543    & 10271.22797 &   302.91575 & 44.71145    &  2          & 32          & 0.03632     & 0.9587240   &  9         \\\\\n",
       "\t282 & 111343.394  & 40.27571    & 20.47320    &   401.71898 & 61437.32496 & 55.50652    &  3          & 32          & 0.02071     & 0.9587240   &  9         \\\\\n",
       "\t283 &  23309.298  & 40.92065    & 14.85347    &    39.87076 &    28.50889 & 31.74728    &  4          & 32          & 0.12148     & 0.9587240   &  9         \\\\\n",
       "\t284 &  11679.358  & 18.84979    & 18.22236    &    41.19995 &   505.12453 & 60.35130    &  5          & 32          & 0.07942     & 0.9587240   &  9         \\\\\n",
       "\t285 &  10010.569  & 21.58192    & 19.04992    &    41.28578 &    63.49718 & 28.83897    &  6          & 32          & 0.08874     & 0.9587240   &  9         \\\\\n",
       "\t286 &  51236.721  & 40.42548    & 20.25134    &    25.27610 &   327.06370 & 54.35682    &  7          & 32          & 0.17928     & 0.9587240   &  9         \\\\\n",
       "\t287 &  41451.343  & 42.59563    & 20.37627    &    21.31184 &   102.65319 & 32.04073    &  8          & 32          & 0.20501     & 0.9587240   &  9         \\\\\n",
       "\t288 & 140998.625  & 51.69720    & 21.17047    &    15.01643 &   672.93556 & 48.19443    &  9          & 32          & 0.11562     & 0.9587240   &  9         \\\\\n",
       "\t841 &  51207.324  & 40.70120    & 20.19643    &    24.44655 &   315.54334 & 54.31767    &  1          & 85          & 0.17915     & 0.8828692   & 10         \\\\\n",
       "\t842 &  32119.690  & 37.67624    & 18.59983    & 10130.53542 &   332.61963 & 45.12632    &  2          & 85          & 0.03586     & 0.8828692   & 10         \\\\\n",
       "\t843 & 114620.648  & 40.21163    & 20.50688    &   553.45232 & 61281.23406 & 55.67619    &  3          & 85          & 0.01961     & 0.8828692   & 10         \\\\\n",
       "\t844 &  37450.509  & 43.55687    & 15.14940    &    30.49092 &   178.54899 & 53.82173    &  4          & 85          & 0.14585     & 0.8828692   & 10         \\\\\n",
       "\t845 &  23245.529  & 41.06282    & 14.91232    &    37.19588 &    26.49570 & 31.59973    &  5          & 85          & 0.11747     & 0.8828692   & 10         \\\\\n",
       "\t846 & 141688.227  & 51.51355    & 21.22301    &    13.95765 &   658.76715 & 48.27068    &  6          & 85          & 0.11475     & 0.8828692   & 10         \\\\\n",
       "\t847 &  41430.342  & 42.56953    & 20.38402    &    26.46077 &    98.58687 & 32.18881    &  7          & 85          & 0.20301     & 0.8828692   & 10         \\\\\n",
       "\t848 &  11104.554  & 22.04131    & 14.72967    &    41.87928 &   253.76841 & 57.58840    &  8          & 85          & 0.04672     & 0.8828692   & 10         \\\\\n",
       "\t849 &   9885.021  & 21.84515    & 19.08202    &    41.56160 &    51.64768 & 27.96108    &  9          & 85          & 0.08376     & 0.8828692   & 10         \\\\\n",
       "\t850 &  14576.417  & 19.01932    & 20.41955    &    43.67150 &   656.24954 & 58.93627    & 10          & 85          & 0.05382     & 0.8828692   & 10         \\\\\n",
       "\\end{tabular}\n"
      ],
      "text/markdown": [
       "\n",
       "| <!--/--> | WAGP | WKHP | SCHL | OIP | INTP | AGEP | segment | run | size | rand | ksize | \n",
       "|---|---|---|---|---|---|---|---|---|---|---|---|---|---|---|---|---|---|---|---|---|---|---|---|---|---|---|---|---|---|---|---|---|---|---|---|---|---|---|---|---|---|---|---|---|---|---|---|---|\n",
       "| 85 |  32533.139  | 37.65234    | 18.58286    |  9861.28683 |  1056.88402 | 45.25574    |  1          | 22          | 0.03699     | 0.9245743   |  4          | \n",
       "| 86 | 100867.328  | 47.32437    | 20.87530    |    16.10355 |  4190.61324 | 48.70672    |  2          | 22          | 0.27891     | 0.9245743   |  4          | \n",
       "| 87 |  25609.529  | 36.35942    | 18.65858    |    33.24220 |    88.83844 | 30.59339    |  3          | 22          | 0.35516     | 0.9245743   |  4          | \n",
       "| 88 |  27436.337  | 35.07576    | 16.62115    |    31.00547 |   544.58281 | 55.19253    |  4          | 22          | 0.32894     | 0.9245743   |  4          | \n",
       "| 136 |  31362.952  | 37.91407    | 18.50124    |  9904.57174 |   358.19168 | 44.67750    |  1          | 28          | 0.03631     | 0.8420015   |  5          | \n",
       "| 137 | 110956.530  | 39.84156    | 20.54442    |   279.01777 | 57379.91115 | 55.70089    |  2          | 28          | 0.02026     | 0.8420015   |  5          | \n",
       "| 138 |  26970.734  | 34.84166    | 16.45336    |    28.67899 |   228.48427 | 55.04581    |  3          | 28          | 0.31476     | 0.8420015   |  5          | \n",
       "| 139 |  93482.265  | 47.24035    | 20.75828    |    17.28800 |   437.18725 | 47.63064    |  4          | 28          | 0.29340     | 0.8420015   |  5          | \n",
       "| 140 |  24034.041  | 35.67695    | 18.59597    |    31.56095 |    58.16449 | 30.12178    |  5          | 28          | 0.33527     | 0.8420015   |  5          | \n",
       "| 289 |  32050.488  | 37.68210    | 18.56015    | 10182.48835 |   355.82516 | 45.19512    |  1          | 49          | 0.03649     | 0.8866712   |  6          | \n",
       "| 290 | 112180.615  | 40.10083    | 20.57911    |   374.79835 | 60957.29059 | 55.37746    |  2          | 49          | 0.01934     | 0.8866712   |  6          | \n",
       "| 291 |  25120.347  | 36.26437    | 19.10029    |    31.78489 |    58.02562 | 29.34967    |  3          | 49          | 0.28887     | 0.8866712   |  6          | \n",
       "| 292 |  94263.647  | 46.50738    | 20.91904    |    16.66077 |   469.53839 | 48.46699    |  4          | 49          | 0.28249     | 0.8866712   |  6          | \n",
       "| 293 |  14361.518  | 21.84666    | 18.75277    |    35.04397 |   444.89715 | 56.77687    |  5          | 49          | 0.12280     | 0.8866712   |  6          | \n",
       "| 294 |  33027.389  | 42.24771    | 15.12815    |    31.02156 |   127.04896 | 49.34659    |  6          | 49          | 0.25001     | 0.8866712   |  6          | \n",
       "| 638 |  31698.716  | 42.64875    | 14.47986    |    29.76801 |   114.66699 | 47.49112    |  1          | 92          | 0.20777     | 0.6206485   |  7          | \n",
       "| 639 |  32051.716  | 38.02772    | 18.61774    | 10166.47307 |   356.39308 | 45.18532    |  2          | 92          | 0.03788     | 0.6206485   |  7          | \n",
       "| 640 | 124771.699  | 50.98251    | 21.13643    |    16.53280 |   540.79112 | 45.46122    |  3          | 92          | 0.14865     | 0.6206485   |  7          | \n",
       "| 641 |  11406.366  | 18.72111    | 18.29520    |    38.25472 |   425.91303 | 56.34994    |  4          | 92          | 0.10176     | 0.6206485   |  7          | \n",
       "| 642 | 113090.532  | 40.45320    | 20.53695    |   458.59113 | 62733.54680 | 55.26700    |  5          | 92          | 0.02030     | 0.6206485   |  7          | \n",
       "| 643 |  24865.338  | 36.01426    | 19.16658    |    29.78949 |    57.66149 | 28.54258    |  6          | 92          | 0.26726     | 0.6206485   |  7          | \n",
       "| 644 |  50088.592  | 40.66711    | 20.11743    |    22.94380 |   298.60934 | 52.83751    |  7          | 92          | 0.21638     | 0.6206485   |  7          | \n",
       "| 41 |  26086.168  | 41.85343    | 14.08371    |    33.61584 |    54.60655 | 39.16352    |  1          |  6          | 0.17227     | 0.7968422   |  8          | \n",
       "| 42 |  32478.782  | 37.92730    | 18.50041    | 10120.52126 |   302.03676 | 45.25844    |  2          |  6          | 0.03645     | 0.7968422   |  8          | \n",
       "| 43 | 113247.012  | 40.43373    | 20.58988    |   324.30843 | 60449.87952 | 55.46361    |  3          |  6          | 0.02075     | 0.7968422   |  8          | \n",
       "| 44 |   9947.328  | 22.40489    | 18.81270    |    42.28527 |    52.87069 | 28.39948    |  4          |  6          | 0.09605     | 0.7968422   |  8          | \n",
       "| 45 |  43168.142  | 41.34285    | 18.45945    |    26.18069 |   265.88966 | 56.20455    |  5          |  6          | 0.21750     | 0.7968422   |  8          | \n",
       "| 46 |  12486.143  | 19.29026    | 18.22484    |    40.30026 |   499.92087 | 60.22740    |  6          |  6          | 0.08606     | 0.7968422   |  8          | \n",
       "| 47 |  41039.802  | 42.27084    | 20.34392    |    24.60697 |   101.53283 | 32.91598    |  7          |  6          | 0.22482     | 0.7968422   |  8          | \n",
       "| 48 | 127905.695  | 49.69829    | 21.22601    |    17.55880 |   623.27023 | 49.14723    |  8          |  6          | 0.14610     | 0.7968422   |  8          | \n",
       "| 280 |  35230.937  | 42.45607    | 15.02346    |    30.56081 |   164.47191 | 54.23804    |  1          | 32          | 0.15342     | 0.9587240   |  9          | \n",
       "| 281 |  31533.698  | 37.77616    | 18.54543    | 10271.22797 |   302.91575 | 44.71145    |  2          | 32          | 0.03632     | 0.9587240   |  9          | \n",
       "| 282 | 111343.394  | 40.27571    | 20.47320    |   401.71898 | 61437.32496 | 55.50652    |  3          | 32          | 0.02071     | 0.9587240   |  9          | \n",
       "| 283 |  23309.298  | 40.92065    | 14.85347    |    39.87076 |    28.50889 | 31.74728    |  4          | 32          | 0.12148     | 0.9587240   |  9          | \n",
       "| 284 |  11679.358  | 18.84979    | 18.22236    |    41.19995 |   505.12453 | 60.35130    |  5          | 32          | 0.07942     | 0.9587240   |  9          | \n",
       "| 285 |  10010.569  | 21.58192    | 19.04992    |    41.28578 |    63.49718 | 28.83897    |  6          | 32          | 0.08874     | 0.9587240   |  9          | \n",
       "| 286 |  51236.721  | 40.42548    | 20.25134    |    25.27610 |   327.06370 | 54.35682    |  7          | 32          | 0.17928     | 0.9587240   |  9          | \n",
       "| 287 |  41451.343  | 42.59563    | 20.37627    |    21.31184 |   102.65319 | 32.04073    |  8          | 32          | 0.20501     | 0.9587240   |  9          | \n",
       "| 288 | 140998.625  | 51.69720    | 21.17047    |    15.01643 |   672.93556 | 48.19443    |  9          | 32          | 0.11562     | 0.9587240   |  9          | \n",
       "| 841 |  51207.324  | 40.70120    | 20.19643    |    24.44655 |   315.54334 | 54.31767    |  1          | 85          | 0.17915     | 0.8828692   | 10          | \n",
       "| 842 |  32119.690  | 37.67624    | 18.59983    | 10130.53542 |   332.61963 | 45.12632    |  2          | 85          | 0.03586     | 0.8828692   | 10          | \n",
       "| 843 | 114620.648  | 40.21163    | 20.50688    |   553.45232 | 61281.23406 | 55.67619    |  3          | 85          | 0.01961     | 0.8828692   | 10          | \n",
       "| 844 |  37450.509  | 43.55687    | 15.14940    |    30.49092 |   178.54899 | 53.82173    |  4          | 85          | 0.14585     | 0.8828692   | 10          | \n",
       "| 845 |  23245.529  | 41.06282    | 14.91232    |    37.19588 |    26.49570 | 31.59973    |  5          | 85          | 0.11747     | 0.8828692   | 10          | \n",
       "| 846 | 141688.227  | 51.51355    | 21.22301    |    13.95765 |   658.76715 | 48.27068    |  6          | 85          | 0.11475     | 0.8828692   | 10          | \n",
       "| 847 |  41430.342  | 42.56953    | 20.38402    |    26.46077 |    98.58687 | 32.18881    |  7          | 85          | 0.20301     | 0.8828692   | 10          | \n",
       "| 848 |  11104.554  | 22.04131    | 14.72967    |    41.87928 |   253.76841 | 57.58840    |  8          | 85          | 0.04672     | 0.8828692   | 10          | \n",
       "| 849 |   9885.021  | 21.84515    | 19.08202    |    41.56160 |    51.64768 | 27.96108    |  9          | 85          | 0.08376     | 0.8828692   | 10          | \n",
       "| 850 |  14576.417  | 19.01932    | 20.41955    |    43.67150 |   656.24954 | 58.93627    | 10          | 85          | 0.05382     | 0.8828692   | 10          | \n",
       "\n",
       "\n"
      ],
      "text/plain": [
       "    WAGP       WKHP     SCHL     OIP         INTP        AGEP     segment run\n",
       "85   32533.139 37.65234 18.58286  9861.28683  1056.88402 45.25574  1      22 \n",
       "86  100867.328 47.32437 20.87530    16.10355  4190.61324 48.70672  2      22 \n",
       "87   25609.529 36.35942 18.65858    33.24220    88.83844 30.59339  3      22 \n",
       "88   27436.337 35.07576 16.62115    31.00547   544.58281 55.19253  4      22 \n",
       "136  31362.952 37.91407 18.50124  9904.57174   358.19168 44.67750  1      28 \n",
       "137 110956.530 39.84156 20.54442   279.01777 57379.91115 55.70089  2      28 \n",
       "138  26970.734 34.84166 16.45336    28.67899   228.48427 55.04581  3      28 \n",
       "139  93482.265 47.24035 20.75828    17.28800   437.18725 47.63064  4      28 \n",
       "140  24034.041 35.67695 18.59597    31.56095    58.16449 30.12178  5      28 \n",
       "289  32050.488 37.68210 18.56015 10182.48835   355.82516 45.19512  1      49 \n",
       "290 112180.615 40.10083 20.57911   374.79835 60957.29059 55.37746  2      49 \n",
       "291  25120.347 36.26437 19.10029    31.78489    58.02562 29.34967  3      49 \n",
       "292  94263.647 46.50738 20.91904    16.66077   469.53839 48.46699  4      49 \n",
       "293  14361.518 21.84666 18.75277    35.04397   444.89715 56.77687  5      49 \n",
       "294  33027.389 42.24771 15.12815    31.02156   127.04896 49.34659  6      49 \n",
       "638  31698.716 42.64875 14.47986    29.76801   114.66699 47.49112  1      92 \n",
       "639  32051.716 38.02772 18.61774 10166.47307   356.39308 45.18532  2      92 \n",
       "640 124771.699 50.98251 21.13643    16.53280   540.79112 45.46122  3      92 \n",
       "641  11406.366 18.72111 18.29520    38.25472   425.91303 56.34994  4      92 \n",
       "642 113090.532 40.45320 20.53695   458.59113 62733.54680 55.26700  5      92 \n",
       "643  24865.338 36.01426 19.16658    29.78949    57.66149 28.54258  6      92 \n",
       "644  50088.592 40.66711 20.11743    22.94380   298.60934 52.83751  7      92 \n",
       "41   26086.168 41.85343 14.08371    33.61584    54.60655 39.16352  1       6 \n",
       "42   32478.782 37.92730 18.50041 10120.52126   302.03676 45.25844  2       6 \n",
       "43  113247.012 40.43373 20.58988   324.30843 60449.87952 55.46361  3       6 \n",
       "44    9947.328 22.40489 18.81270    42.28527    52.87069 28.39948  4       6 \n",
       "45   43168.142 41.34285 18.45945    26.18069   265.88966 56.20455  5       6 \n",
       "46   12486.143 19.29026 18.22484    40.30026   499.92087 60.22740  6       6 \n",
       "47   41039.802 42.27084 20.34392    24.60697   101.53283 32.91598  7       6 \n",
       "48  127905.695 49.69829 21.22601    17.55880   623.27023 49.14723  8       6 \n",
       "280  35230.937 42.45607 15.02346    30.56081   164.47191 54.23804  1      32 \n",
       "281  31533.698 37.77616 18.54543 10271.22797   302.91575 44.71145  2      32 \n",
       "282 111343.394 40.27571 20.47320   401.71898 61437.32496 55.50652  3      32 \n",
       "283  23309.298 40.92065 14.85347    39.87076    28.50889 31.74728  4      32 \n",
       "284  11679.358 18.84979 18.22236    41.19995   505.12453 60.35130  5      32 \n",
       "285  10010.569 21.58192 19.04992    41.28578    63.49718 28.83897  6      32 \n",
       "286  51236.721 40.42548 20.25134    25.27610   327.06370 54.35682  7      32 \n",
       "287  41451.343 42.59563 20.37627    21.31184   102.65319 32.04073  8      32 \n",
       "288 140998.625 51.69720 21.17047    15.01643   672.93556 48.19443  9      32 \n",
       "841  51207.324 40.70120 20.19643    24.44655   315.54334 54.31767  1      85 \n",
       "842  32119.690 37.67624 18.59983 10130.53542   332.61963 45.12632  2      85 \n",
       "843 114620.648 40.21163 20.50688   553.45232 61281.23406 55.67619  3      85 \n",
       "844  37450.509 43.55687 15.14940    30.49092   178.54899 53.82173  4      85 \n",
       "845  23245.529 41.06282 14.91232    37.19588    26.49570 31.59973  5      85 \n",
       "846 141688.227 51.51355 21.22301    13.95765   658.76715 48.27068  6      85 \n",
       "847  41430.342 42.56953 20.38402    26.46077    98.58687 32.18881  7      85 \n",
       "848  11104.554 22.04131 14.72967    41.87928   253.76841 57.58840  8      85 \n",
       "849   9885.021 21.84515 19.08202    41.56160    51.64768 27.96108  9      85 \n",
       "850  14576.417 19.01932 20.41955    43.67150   656.24954 58.93627 10      85 \n",
       "    size    rand      ksize\n",
       "85  0.03699 0.9245743  4   \n",
       "86  0.27891 0.9245743  4   \n",
       "87  0.35516 0.9245743  4   \n",
       "88  0.32894 0.9245743  4   \n",
       "136 0.03631 0.8420015  5   \n",
       "137 0.02026 0.8420015  5   \n",
       "138 0.31476 0.8420015  5   \n",
       "139 0.29340 0.8420015  5   \n",
       "140 0.33527 0.8420015  5   \n",
       "289 0.03649 0.8866712  6   \n",
       "290 0.01934 0.8866712  6   \n",
       "291 0.28887 0.8866712  6   \n",
       "292 0.28249 0.8866712  6   \n",
       "293 0.12280 0.8866712  6   \n",
       "294 0.25001 0.8866712  6   \n",
       "638 0.20777 0.6206485  7   \n",
       "639 0.03788 0.6206485  7   \n",
       "640 0.14865 0.6206485  7   \n",
       "641 0.10176 0.6206485  7   \n",
       "642 0.02030 0.6206485  7   \n",
       "643 0.26726 0.6206485  7   \n",
       "644 0.21638 0.6206485  7   \n",
       "41  0.17227 0.7968422  8   \n",
       "42  0.03645 0.7968422  8   \n",
       "43  0.02075 0.7968422  8   \n",
       "44  0.09605 0.7968422  8   \n",
       "45  0.21750 0.7968422  8   \n",
       "46  0.08606 0.7968422  8   \n",
       "47  0.22482 0.7968422  8   \n",
       "48  0.14610 0.7968422  8   \n",
       "280 0.15342 0.9587240  9   \n",
       "281 0.03632 0.9587240  9   \n",
       "282 0.02071 0.9587240  9   \n",
       "283 0.12148 0.9587240  9   \n",
       "284 0.07942 0.9587240  9   \n",
       "285 0.08874 0.9587240  9   \n",
       "286 0.17928 0.9587240  9   \n",
       "287 0.20501 0.9587240  9   \n",
       "288 0.11562 0.9587240  9   \n",
       "841 0.17915 0.8828692 10   \n",
       "842 0.03586 0.8828692 10   \n",
       "843 0.01961 0.8828692 10   \n",
       "844 0.14585 0.8828692 10   \n",
       "845 0.11747 0.8828692 10   \n",
       "846 0.11475 0.8828692 10   \n",
       "847 0.20301 0.8828692 10   \n",
       "848 0.04672 0.8828692 10   \n",
       "849 0.08376 0.8828692 10   \n",
       "850 0.05382 0.8828692 10   "
      ]
     },
     "metadata": {},
     "output_type": "display_data"
    }
   ],
   "source": [
    "finalTable"
   ]
  }
 ],
 "metadata": {
  "kernelspec": {
   "display_name": "R",
   "language": "R",
   "name": "ir"
  },
  "language_info": {
   "codemirror_mode": "r",
   "file_extension": ".r",
   "mimetype": "text/x-r-source",
   "name": "R",
   "pygments_lexer": "r",
   "version": "3.4.3"
  }
 },
 "nbformat": 4,
 "nbformat_minor": 2
}
